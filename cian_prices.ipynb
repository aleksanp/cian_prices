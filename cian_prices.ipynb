{
 "cells": [
  {
   "cell_type": "code",
   "execution_count": 2,
   "metadata": {},
   "outputs": [],
   "source": [
    "import numpy as np\n",
    "import matplotlib.pyplot as plt\n",
    "import pandas as pd\n",
    "import seaborn as sns\n",
    "\n",
    "%matplotlib inline\n",
    "sns.set()"
   ]
  },
  {
   "cell_type": "code",
   "execution_count": 3,
   "metadata": {},
   "outputs": [],
   "source": [
    "from sklearn.preprocessing import OneHotEncoder"
   ]
  },
  {
   "cell_type": "code",
   "execution_count": 4,
   "metadata": {},
   "outputs": [
    {
     "name": "stdout",
     "output_type": "stream",
     "text": [
      "sep=;\n",
      "\n",
      "Код;Категория;Название;Тип продажи;Объект продажи;Общая площадь;Жилая площадь;Площадь кухни;Этаж;Этажей в доме;Лифт пассажирский (кол-во);Лифт грузовой (кол-во);Год строительства;Балкон/лоджия;Мусоропровод;Телефон;Парковка;Количество комнат;Тип дома;Название дома (ЖК);Высота потолков;Кол-во раздельных санузлов;Кол-во совмещенных санузлов;Ремонт;Вид из окон;Расстояние до метро;Кол-во квартир в доме;Адрес;Текст объявления;Стоимость;Id Пользователя;ФИО продавца;Телефон продавца;Признак актуальности;Ссылка на объявление;Ссылки на картинки;Дата обновления;Регион Циан\n",
      "\n",
      "12034729;Недвижимость в Ногинске/Продажа/Продажа 1-комнатных квартир в Ногинском районе/Электроугли/Носовихинское шоссе/улица Маяковского;1-комн. квартира, 42.2 м2;Свободная продажа, Возможна ипотека;Новостройка;\"=\"\"42.2\"\"\";\"=\"\"19.9\"\"\";\"=\"\"11.0\"\"\";2;3;;;;;Нет;Нет;;1;Кирпичный;ЖК «Маяковского»;;1;;;Во двор;;;Московская область,Богородский городской округ,Электроугли,улица Маяковского,6;Продается однокомнатная квартира в новостройке г. Электроугли, ул. Маяковского, 6. 2/3 кирпичного дома. Общая площадь квартиры 41,9 кв.м, жилая 19,9 кв. м, кухня 11,9 кв. м, с/у раздельный. Окна и балконные двери: REHAU , пластиковые с энергосберегающими стеклопакетами. Теплоснабжение и отопление : от центральной котельной. Газоснабжение, водоснабжение, канализация и электроснабжение : от существующих инженерных коммуникаций . Удобное транспортное сообщение с Москвой, до м. Новогиреево ходит маршрутное такси. Дом сдан. Продажа квартиры осуществляется в соответствии с ДКП. Ипотека.;2850000;277143;;+79652189394;Опубликовано;https://noginsk.cian.ru/sale/flat/12034729/;https://cdn-p.cian.site/images/4/892/911/novostroyka-elektrougli-mayakovskogo-ulica-119298463-1.jpg,https://cdn-p.cian.site/images/4/892/911/novostroyka-elektrougli-mayakovskogo-ulica-119298467-1.jpg,https://cdn-p.cian.site/images/4/892/911/novostroyka-elektrougli-mayakovskogo-ulica-119298469-1.jpg,https://cdn-p.cian.site/images/4/892/911/novostroyka-elektrougli-mayakovskogo-ulica-119298472-1.jpg,https://cdn-p.cian.site/images/4/892/911/novostroyka-elektrougli-mayakovskogo-ulica-119298477-1.jpg,https://cdn-p.cian.site/images/4/892/911/novostroyka-elektrougli-mayakovskogo-ulica-119298482-1.jpg,https://cdn-p.cian.site/images/4/892/911/novostroyka-elektrougli-mayakovskogo-ulica-119298488-1.jpg,https://cdn-p.cian.site/images/7/892/911/novostroyka-elektrougli-mayakovskogo-ulica-119298780-1.jpg,https://cdn-p.cian.site/images/6/892/911/novostroyka-elektrougli-mayakovskogo-ulica-119298619-1.jpg,https://cdn-p.cian.site/images/6/892/911/novostroyka-elektrougli-mayakovskogo-ulica-119298622-1.jpg,https://cdn-p.cian.site/images/6/892/911/novostroyka-elektrougli-mayakovskogo-ulica-119298625-1.jpg,https://cdn-p.cian.site/images/6/892/911/novostroyka-elektrougli-mayakovskogo-ulica-119298627-1.jpg,https://cdn-p.cian.site/images/6/892/911/novostroyka-elektrougli-mayakovskogo-ulica-119298631-1.jpg;08.10.2019 13:56:39;Богородский\n",
      "\n",
      "12695191;Недвижимость в Москве/Продажа/Продажа 2-комнатных квартир в Москве/Варшавское шоссе/НАО (Новомосковский)/Щербинка/метро Аннино/улица 40 лет Октября;2-комн. квартира, 70.03 м2;, Возможна ипотека;Новостройка;\"=\"\"70.03\"\"\";\"=\"\"41.8\"\"\";\"=\"\"13.7\"\"\";2;17;1;1;;Балкон;Да;Нет;подземная;2;Монолитный;ЖК «Белая звезда»;;1;;;;12 мин. на транспорте;;Москва,НАО (Новомосковский),Щербинка,улица 40 лет Октября,3;\"Продается просторная двухкомнатная квартира 70,03 кв.м в Новой Москве ЖК \"\"Белая Звезда\"\". Дом введен в эксплуатацию! На транспорте 17 минут от метро \"\"Аннино\"\". 17-этажный монолитный дом возведён по индивидуальному проекту с подземным паркингом. Корпус состоит из трёх жилых секций. Вся городская инфраструктура в шаговой доступности: школы, детские сады, поликлиника. 5 минут пешком от ж/д станции Щербинка. Номер лота - 077766\";7073030;389766;ИНКОМ-Новостройки;+74951628412;Опубликовано;https://www.cian.ru/sale/flat/12695191/;https://cdn-p.cian.site/images/3/824/736/novostroyka-shcerbinka-637428302-1.jpg,https://cdn-p.cian.site/images2/5/301/176/novostroyka-shcerbinka-40-let-oktyabrya-ulica-671103538-1.jpg,https://cdn-p.cian.site/images2/5/301/176/novostroyka-shcerbinka-40-let-oktyabrya-ulica-671103565-1.jpg,https://cdn-p.cian.site/images2/5/301/176/novostroyka-shcerbinka-40-let-oktyabrya-ulica-671103573-1.jpg,https://cdn-p.cian.site/images2/5/301/176/novostroyka-shcerbinka-40-let-oktyabrya-ulica-671103560-1.jpg,https://cdn-p.cian.site/images2/7/533/017/novostroyka-shcerbinka-40-let-oktyabrya-ulica-710335754-1.jpg,https://cdn-p.cian.site/images2/7/533/017/novostroyka-shcerbinka-40-let-oktyabrya-ulica-710335757-1.jpg,https://cdn-p.cian.site/images2/7/533/017/novostroyka-shcerbinka-40-let-oktyabrya-ulica-710335756-1.jpg,https://cdn-p.cian.site/images2/7/533/017/novostroyka-shcerbinka-40-let-oktyabrya-ulica-710335758-1.jpg,https://cdn-p.cian.site/images2/7/533/017/novostroyka-shcerbinka-40-let-oktyabrya-ulica-710335755-1.jpg,https://cdn-p.cian.site/images/4/876/627/novostroyka-shcerbinka-40-let-oktyabrya-ulica-726678439-1.jpg,https://cdn-p.cian.site/images/4/876/627/novostroyka-shcerbinka-40-let-oktyabrya-ulica-726678454-1.jpg,https://cdn-p.cian.site/images/4/876/627/novostroyka-shcerbinka-40-let-oktyabrya-ulica-726678451-1.jpg,https://cdn-p.cian.site/images/4/876/627/novostroyka-shcerbinka-40-let-oktyabrya-ulica-726678455-1.jpg,https://cdn-p.cian.site/images2/4/742/647/novostroyka-shcerbinka-40-let-oktyabrya-ulica-746247441-1.jpg;11.10.2019 9:25:04;Москва\n",
      "\n",
      "12722545;Недвижимость в Москве/Продажа/Продажа 3-комнатных квартир в Москве/Варшавское шоссе/НАО (Новомосковский)/Щербинка/метро Аннино/улица 40 лет Октября;3-комн. квартира, 76.47 м2;, Возможна ипотека;Новостройка;\"=\"\"76.47\"\"\";\"=\"\"43.4\"\"\";\"=\"\"11.2\"\"\";11;17;1;1;;Балкон;Да;Нет;подземная;3;Монолитный;ЖК «Белая звезда»;;1;;;Во двор;12 мин. на транспорте;;Москва,НАО (Новомосковский),Щербинка,улица 40 лет Октября,3;\"Продается трехкомнатная квартира 76,47 кв.м с балконом в Новой Москве в ЖК \"\"Белая Звезда\"\". Дом введен в эксплуатацию. На транспорте 17 минут от метро \"\"Аннино\"\". 17-этажный монолитный дом возведён по индивидуальному проекту с подземным паркингом. Корпус состоит из трёх жилых секций. Вся городская инфраструктура в шаговой доступности: школы, детские сады, поликлиника. 5 минут пешком от ж/д станции Щербинка. Номер лота - 085130\";7799940;389766;ИНКОМ-Новостройки;+74951628412;Опубликовано;https://www.cian.ru/sale/flat/12722545/;https://cdn-p.cian.site/images2/5/690/176/novostroyka-shcerbinka-671096584-1.jpg,https://cdn-p.cian.site/images2/6/690/176/novostroyka-shcerbinka-671096683-1.jpg,https://cdn-p.cian.site/images2/6/690/176/novostroyka-shcerbinka-671096662-1.jpg,https://cdn-p.cian.site/images2/6/690/176/novostroyka-shcerbinka-671096654-1.jpg,https://cdn-p.cian.site/images2/5/690/176/novostroyka-shcerbinka-671096591-1.jpg,https://cdn-p.cian.site/images2/5/690/176/novostroyka-shcerbinka-671096594-1.jpg,https://cdn-p.cian.site/images2/6/690/176/novostroyka-shcerbinka-671096639-1.jpg,https://cdn-p.cian.site/images2/6/833/017/novostroyka-shcerbinka-40-let-oktyabrya-ulica-710338624-1.jpg,https://cdn-p.cian.site/images2/6/833/017/novostroyka-shcerbinka-40-let-oktyabrya-ulica-710338622-1.jpg,https://cdn-p.cian.site/images2/6/833/017/novostroyka-shcerbinka-40-let-oktyabrya-ulica-710338623-1.jpg,https://cdn-p.cian.site/images2/6/833/017/novostroyka-shcerbinka-40-let-oktyabrya-ulica-710338621-1.jpg,https://cdn-p.cian.site/images/1/555/717/novostroyka-shcerbinka-40-let-oktyabrya-ulica-717555115-1.jpg,https://cdn-p.cian.site/images/9/876/627/novostroyka-shcerbinka-40-let-oktyabrya-ulica-726678913-1.jpg,https://cdn-p.cian.site/images/9/876/627/novostroyka-shcerbinka-40-let-oktyabrya-ulica-726678912-1.jpg,https://cdn-p.cian.site/images/9/876/627/novostroyka-shcerbinka-40-let-oktyabrya-ulica-726678915-1.jpg,https://cdn-p.cian.site/images/9/876/627/novostroyka-shcerbinka-40-let-oktyabrya-ulica-726678914-1.jpg,https://cdn-p.cian.site/images/9/876/627/novostroyka-shcerbinka-40-let-oktyabrya-ulica-726678911-1.jpg;11.10.2019 6:45:06;Москва\n",
      "\n",
      "139130443;Недвижимость в Москве/Продажа/Продажа 2-комнатных квартир в Москве/СЗАО/Хорошево-Мневники/метро Полежаевская/3-я Хорошевская улица;2-комн. квартира, 60.0 м2;;Новостройка;\"=\"\"60.0\"\"\";\"=\"\"38.0\"\"\";\"=\"\"12.0\"\"\";5;20;2;2;;;Нет;Нет;;2;Монолитный;ЖК «Хорошевский»;;2;;;На улицу и двор;3 мин. на транспорте;;Москва,СЗАО,район Хорошево-Мневники,3-я Хорошевская улица,19А;Дом сдан. Есть возможность перепланировать в 3-комнатную. 2 Санузла. Жилой комплекс Хорошевский это новый масштабный проект бизнес-класса в Северено-западном округе Москвы. Общая площадь застройки составляет 12,74 гектара земли. ЖК Хорошёвский - это многофункциональный комплекс, который включает жилые корпуса, собственные детские сады на 330 мест, школу на 550 учеников, бизнес-центр, апартаменты, фитнес-клуб, кафе и магазин, паркинг и гостевые стоянки.;11700000;199563;;+74994098538;Опубликовано;https://www.cian.ru/sale/flat/139130443/;https://cdn-p.cian.site/images/5/002/116/novostroyka-moskva-3ya-horoshevskaya-ulica-611200548-1.jpg,https://cdn-p.cian.site/images/3/507/466/novostroyka-moskva-3ya-horoshevskaya-ulica-664705353-1.jpg,https://cdn-p.cian.site/images/3/507/466/novostroyka-moskva-3ya-horoshevskaya-ulica-664705395-1.jpg,https://cdn-p.cian.site/images/4/507/466/novostroyka-moskva-3ya-horoshevskaya-ulica-664705415-1.jpg,https://cdn-p.cian.site/images/4/507/466/novostroyka-moskva-3ya-horoshevskaya-ulica-664705456-1.jpg;11.10.2019 16:30:13;Москва\n",
      "\n",
      "144201393;Недвижимость в Москве/Продажа/Продажа 2-комнатных квартир в Московской области/Красногорск городской округ/д. Глухово/Рублевское Предместье ЖК/Ильинское шоссе;2-комн. квартира, 65.2 м2;, Возможна ипотека;Новостройка;\"=\"\"65.2\"\"\";\"=\"\"\"\"\";\"=\"\"\"\"\";2;5;0;1;;Балкон;Нет;Нет;подземная;2;Монолитный;ЖК «Рублевское предместье»;;0;;;На улицу и двор;;;Московская область,Красногорск городской округ,д. Глухово,Рублевское Предместье ЖК,9к1;Дом построен. Получена собственность. Фактическая площадь 65,2м, Проектная 64,5м. Введен в эксплуатацию. Продажа осуществляется по ДКП. 7я очередь. Корпус 15, ЖК Рублёвское предместье. Балкон 1. Санузел совмещённый. Монолитный одноподъездный дом. Можно сразу начать оформление собственности. Можно начинать ремонт.;6055000;5949598;;+79851298319;Опубликовано;https://www.cian.ru/sale/flat/144201393/;https://cdn-p.cian.site/images/4/379/115/novostroyka-rublevskoe-predmeste-511973444-1.jpg,https://cdn-p.cian.site/images/7/379/115/novostroyka-rublevskoe-predmeste-511973745-1.jpg,https://cdn-p.cian.site/images/4/379/115/novostroyka-rublevskoe-predmeste-511973414-1.jpg,https://cdn-p.cian.site/images/4/379/115/novostroyka-rublevskoe-predmeste-511973488-1.jpg,https://cdn-p.cian.site/images/3/379/115/novostroyka-rublevskoe-predmeste-511973382-1.jpg,https://cdn-p.cian.site/images/3/379/115/novostroyka-rublevskoe-predmeste-511973386-1.jpg,https://cdn-p.cian.site/images/4/379/115/novostroyka-rublevskoe-predmeste-511973470-1.jpg,https://cdn-p.cian.site/images/3/379/115/novostroyka-rublevskoe-predmeste-511973385-1.jpg,https://cdn-p.cian.site/images/3/379/115/novostroyka-rublevskoe-predmeste-511973395-1.jpg,https://cdn-p.cian.site/images/4/379/115/novostroyka-rublevskoe-predmeste-511973478-1.jpg,https://cdn-p.cian.site/images/3/379/115/novostroyka-rublevskoe-predmeste-511973396-1.jpg,https://cdn-p.cian.site/images/3/379/115/novostroyka-rublevskoe-predmeste-511973399-1.jpg,https://cdn-p.cian.site/images/4/379/115/novostroyka-rublevskoe-predmeste-511973410-1.jpg,https://cdn-p.cian.site/images/4/379/115/novostroyka-rublevskoe-predmeste-511973416-1.jpg,https://cdn-p.cian.site/images/4/379/115/novostroyka-rublevskoe-predmeste-511973415-1.jpg,https://cdn-p.cian.site/images/4/379/115/novostroyka-rublevskoe-predmeste-511973421-1.jpg,https://cdn-p.cian.site/images/4/379/115/novostroyka-rublevskoe-predmeste-511973427-1.jpg,https://cdn-p.cian.site/images/4/379/115/novostroyka-rublevskoe-predmeste-511973451-1.jpg,https://cdn-p.cian.site/images/4/379/115/novostroyka-rublevskoe-predmeste-511973481-1.jpg,https://cdn-p.cian.site/images/4/379/115/novostroyka-rublevskoe-predmeste-511973486-1.jpg,https://cdn-p.cian.site/images/4/379/115/novostroyka-rublevskoe-predmeste-511973480-1.jpg,https://cdn-p.cian.site/images/5/379/115/novostroyka-rublevskoe-predmeste-511973570-1.jpg,https://cdn-p.cian.site/images/6/379/115/novostroyka-rublevskoe-predmeste-511973612-1.jpg,https://cdn-p.cian.site/images/5/379/115/novostroyka-rublevskoe-predmeste-511973575-1.jpg,https://cdn-p.cian.site/images/5/379/115/novostroyka-rublevskoe-predmeste-511973587-1.jpg,https://cdn-p.cian.site/images/6/379/115/novostroyka-rublevskoe-predmeste-511973600-1.jpg,https://cdn-p.cian.site/images/5/379/115/novostroyka-rublevskoe-predmeste-511973579-1.jpg,https://cdn-p.cian.site/images/5/379/115/novostroyka-rublevskoe-predmeste-511973599-1.jpg;09.10.2019 19:10:04;Красногорск\n",
      "\n",
      "148095894;Недвижимость в Москве/Продажа/Продажа 1-комнатных квартир в Московской области/Истра городской округ/д. Лобаново/метро Кунцевская;1-комн. квартира, 38.18 м2;, Возможна ипотека;Новостройка;\"=\"\"38.18\"\"\";\"=\"\"17.3\"\"\";\"=\"\"8.1\"\"\";1;3;;;;;Нет;Нет;;1;Кирпичный;ЖК «Павловский квартал»;;1;;;Во двор;33 мин. на транспорте;;Московская область,Истра городской округ,д. Лобаново,7;Внимание! Вашему вниманию предлагается 1к квартира в современном малоэтажном комплексе комфорт-класс ЖК Павловский квартал в 14 км. по Новорижскому ш. Общая площадь 38,18, комната 17,29 кв.м., кухня 8,11 кв.м., с/у совмещенный, лоджия застекленная. Монолитные дома, единый архитектурный стиль, престижное западное направление, развитая инфраструктура, близость к столице, привлекательное природное окружение. Недалеко от территории застройки протекает река Истра, на берегах которой можно отдыхать и наслаждаться природой. Во дворе каждого дома будут обустроены комфортабельные зеленые зоны отдыха, детские игровые площадки, а также большие благоустроенные общественные пространства и места для прогулок. Огороженная территория, охрана, для всех жителей комплекса и гостей спроектированы и построены специальные парковки. ЖК Павловский квартал расположен рядом с легендарным коттеджным поселком Павлово, торгово-развлекательным центром Павлово подворье и лучшей в Подмосковье частной школой Павловской гимназией. Оформление по договору уступки. Ипотека от Сбербанка, Уралсиба, Московского кредитного банка. Респектабельный поселок, в то же время доступный по ценам для широкого круга покупателей. Спешите приобрести данную квартиру по выгодной цене!;2710780;304007;Русфинриэлти;+79037088218;Опубликовано;https://www.cian.ru/sale/flat/148095894/;https://cdn-p.cian.site/images/7/107/141/novostroyka-zhiloy-kompleks-pavlovskiy-novaya-ulica-141701740-1.jpg,https://cdn-p.cian.site/images/9/878/595/novostroyka-zhiloy-kompleks-pavlovskiy-novaya-ulica-595878927-1.jpg,https://cdn-p.cian.site/images/7/107/141/novostroyka-zhiloy-kompleks-pavlovskiy-novaya-ulica-141701717-1.jpg,https://cdn-p.cian.site/images/7/107/141/novostroyka-zhiloy-kompleks-pavlovskiy-novaya-ulica-141701758-1.jpg,https://cdn-p.cian.site/images/7/107/141/novostroyka-zhiloy-kompleks-pavlovskiy-novaya-ulica-141701745-1.jpg,https://cdn-p.cian.site/images/7/107/141/novostroyka-zhiloy-kompleks-pavlovskiy-novaya-ulica-141701747-1.jpg,https://cdn-p.cian.site/images/7/107/141/novostroyka-zhiloy-kompleks-pavlovskiy-novaya-ulica-141701714-1.jpg,https://cdn-p.cian.site/images/9/878/595/novostroyka-zhiloy-kompleks-pavlovskiy-novaya-ulica-595878925-1.jpg,https://cdn-p.cian.site/images/9/878/595/novostroyka-zhiloy-kompleks-pavlovskiy-novaya-ulica-595878930-1.jpg,https://cdn-p.cian.site/images/9/878/595/novostroyka-zhiloy-kompleks-pavlovskiy-novaya-ulica-595878923-1.jpg,https://cdn-p.cian.site/images/9/878/595/novostroyka-zhiloy-kompleks-pavlovskiy-novaya-ulica-595878934-1.jpg,https://cdn-p.cian.site/images/9/878/595/novostroyka-zhiloy-kompleks-pavlovskiy-novaya-ulica-595878929-1.jpg,https://cdn-p.cian.site/images/9/878/595/novostroyka-zhiloy-kompleks-pavlovskiy-novaya-ulica-595878932-1.jpg,https://cdn-p.cian.site/images/9/878/595/novostroyka-zhiloy-kompleks-pavlovskiy-novaya-ulica-595878931-1.jpg,https://cdn-p.cian.site/images/9/878/595/novostroyka-zhiloy-kompleks-pavlovskiy-novaya-ulica-595878933-1.jpg;08.10.2019 17:12:12;Истра\n",
      "\n",
      "149229800;Недвижимость в Москве/Продажа/Продажа 1-комнатных квартир в Московской области/Щелково городской округ/д. Большие Жеребцы/Восточный мкр/Восточная Европа ЖК/Щелковское шоссе/метро Щелковская;1-комн. квартира, 44.0 м2;, Возможна ипотека;Новостройка;\"=\"\"44.0\"\"\";\"=\"\"17.5\"\"\";\"=\"\"12.2\"\"\";2;5;1;;;;Нет;Нет;;1;Монолитный;ЖК «Восточная Европа»;;1;;;Во двор;25 мин. на транспорте;;Московская область,Щелково городской округ,д. Большие Жеребцы,Восточный мкр,Восточная Европа ЖК,к4;Продаётся 1- комнатная квартира в ЖК Восточная Европа, 14 км. от МКАД по Щелковскому шоссе. Жилой комплекс огорожен и находится под охраной. 3 корпус, установлены двухкамерные стеклопакеты, электрика до двери. Экологически чистый зеленый район, рядом Медвежьи озера, зона отдыха. У городка будет своя полноценная инфраструктура: медицинский кабинет, отделение банка, отделение связи, дом творчества школа искусств, детский сад на 320 мест, школа на 1300 учащихся, библиотека, многоуровневая стоянка на 1624 машино-места. Помощь в оформлении Ипотека БЕСПЛАТНО, военная ипотека, субсидии для госслужащих, материнский капитал, беспроцентная рассрочка. Юридическое сопровождение сделки - БЕСПЛАТНО! Регистрация по ФЗ 214 (обязательная регистрация в Росреестре).;1790000;326319;Наталия Комбарова;+79266942330;Опубликовано;https://www.cian.ru/sale/flat/149229800/;https://cdn-p.cian.site/images2/0/418/457/novostroyka-vostochnaya-evropa-754814053-1.jpg,https://cdn-p.cian.site/images/2/005/551/novostroyka-bolshie-zherebcy-155500237-1.jpg,https://cdn-p.cian.site/images/5/432/602/novostroyka-bolshie-zherebcy-206234528-1.jpg,https://cdn-p.cian.site/images/5/432/602/novostroyka-bolshie-zherebcy-206234519-1.jpg,https://cdn-p.cian.site/images/6/446/142/novostroyka-bolshie-zherebcy-241644647-1.jpg,https://cdn-p.cian.site/images/6/446/142/novostroyka-bolshie-zherebcy-241644650-1.jpg,https://cdn-p.cian.site/images/6/446/142/novostroyka-bolshie-zherebcy-241644649-1.jpg,https://cdn-p.cian.site/images/6/446/142/novostroyka-bolshie-zherebcy-241644646-1.jpg,https://cdn-p.cian.site/images/6/446/142/novostroyka-bolshie-zherebcy-241644645-1.jpg,https://cdn-p.cian.site/images/6/446/142/novostroyka-bolshie-zherebcy-241644651-1.jpg,https://cdn-p.cian.site/images/3/696/852/novostroyka-bolshie-zherebcy-258696369-1.jpg;06.08.2019 17:42:09;Щелково\n",
      "\n",
      "149484539;Недвижимость в Старой Купавне/Продажа/Продажа квартир-студий в Старой Купавне/Горьковское шоссе/Кудиновское шоссе/улица Октябрьская;студия, 29.0 м2;;Новостройка;\"=\"\"29.0\"\"\";\"=\"\"19.0\"\"\";\"=\"\"\"\"\";14;17;1;1;;Балкон;Нет;Нет;;;Монолитный;ЖК «Купавино»;;;;;Во двор;;;Московская область,Богородский городской округ,Старая Купавна,улица Октябрьская,14А;Квартира-студия, общая площадь 29 кв.м, с/у совмещенный - 3,4 кв.м, прихожая - 3,2 м2, есть балкон. Этаж 14/17. Комплекс расположен на берегу Купавинского озера с пляжной зоной. Большую часть первого этажа займет новый современный детский сад, с собственной оборудованной и огороженной детской площадкой. Развитая инфраструктура. В квартире будут установлены входные двери, застеклена лоджия, гидроизолирован санузел, проведена трубная разводка системы отопления и установлены отопительные приборы, подведена электропроводка с электрощитком, смонтированы стояки канализации, ГВС и ХВС с заглушками. Хорошая транспортная доступность (автобусы, маршрутки до ст. метро Партизанская, Щелковская. Ж/д до Курского вокзала 40 минут электричкой). Переуступка ДДУ по ФЗ-214.;1500000;2730754;Денис Сидоров;+79779170000;Опубликовано;https://staraya-kupavna.cian.ru/sale/flat/149484539/;https://cdn-p.cian.site/images/3/298/851/novostroyka-staraya-kupavna-oktyabrskaya-ulica-158892306-1.jpg,https://cdn-p.cian.site/images/3/398/851/novostroyka-staraya-kupavna-oktyabrskaya-ulica-158893389-1.jpg,https://cdn-p.cian.site/images/3/398/851/novostroyka-staraya-kupavna-oktyabrskaya-ulica-158893398-1.jpg,https://cdn-p.cian.site/images/3/398/851/novostroyka-staraya-kupavna-oktyabrskaya-ulica-158893396-1.jpg,https://cdn-p.cian.site/images/3/398/851/novostroyka-staraya-kupavna-oktyabrskaya-ulica-158893391-1.jpg,https://cdn-p.cian.site/images/3/398/851/novostroyka-staraya-kupavna-oktyabrskaya-ulica-158893393-1.jpg,https://cdn-p.cian.site/images/3/398/851/novostroyka-staraya-kupavna-oktyabrskaya-ulica-158893397-1.jpg,https://cdn-p.cian.site/images/4/398/851/novostroyka-staraya-kupavna-oktyabrskaya-ulica-158893400-1.jpg,https://cdn-p.cian.site/images/4/398/851/novostroyka-staraya-kupavna-oktyabrskaya-ulica-158893403-1.jpg;07.10.2019 15:42:33;Богородский\n",
      "\n"
     ]
    }
   ],
   "source": [
    "# look at the file\n",
    "with open('2019-10-13_ciannovostroyki.csv', 'r') as file:\n",
    "    for i in range(10):\n",
    "        print(file.readline())"
   ]
  },
  {
   "cell_type": "code",
   "execution_count": 5,
   "metadata": {},
   "outputs": [],
   "source": [
    "cian_data_full = pd.read_csv('2019-10-13_ciannovostroyki.csv', sep=';',\n",
    "                             skiprows=1, encoding='cp1251')"
   ]
  },
  {
   "cell_type": "code",
   "execution_count": 6,
   "metadata": {},
   "outputs": [
    {
     "data": {
      "text/html": [
       "<div>\n",
       "<style scoped>\n",
       "    .dataframe tbody tr th:only-of-type {\n",
       "        vertical-align: middle;\n",
       "    }\n",
       "\n",
       "    .dataframe tbody tr th {\n",
       "        vertical-align: top;\n",
       "    }\n",
       "\n",
       "    .dataframe thead th {\n",
       "        text-align: right;\n",
       "    }\n",
       "</style>\n",
       "<table border=\"1\" class=\"dataframe\">\n",
       "  <thead>\n",
       "    <tr style=\"text-align: right;\">\n",
       "      <th></th>\n",
       "      <th>Код</th>\n",
       "      <th>Категория</th>\n",
       "      <th>Название</th>\n",
       "      <th>Тип продажи</th>\n",
       "      <th>Объект продажи</th>\n",
       "      <th>Общая площадь</th>\n",
       "      <th>Жилая площадь</th>\n",
       "      <th>Площадь кухни</th>\n",
       "      <th>Этаж</th>\n",
       "      <th>Этажей в доме</th>\n",
       "      <th>...</th>\n",
       "      <th>Текст объявления</th>\n",
       "      <th>Стоимость</th>\n",
       "      <th>Id Пользователя</th>\n",
       "      <th>ФИО продавца</th>\n",
       "      <th>Телефон продавца</th>\n",
       "      <th>Признак актуальности</th>\n",
       "      <th>Ссылка на объявление</th>\n",
       "      <th>Ссылки на картинки</th>\n",
       "      <th>Дата обновления</th>\n",
       "      <th>Регион Циан</th>\n",
       "    </tr>\n",
       "  </thead>\n",
       "  <tbody>\n",
       "    <tr>\n",
       "      <th>0</th>\n",
       "      <td>12034729</td>\n",
       "      <td>Недвижимость в Ногинске/Продажа/Продажа 1-комн...</td>\n",
       "      <td>1-комн. квартира, 42.2 м2</td>\n",
       "      <td>Свободная продажа, Возможна ипотека</td>\n",
       "      <td>Новостройка</td>\n",
       "      <td>=\"42.2\"</td>\n",
       "      <td>=\"19.9\"</td>\n",
       "      <td>=\"11.0\"</td>\n",
       "      <td>2</td>\n",
       "      <td>3</td>\n",
       "      <td>...</td>\n",
       "      <td>Продается однокомнатная квартира в новостройке...</td>\n",
       "      <td>2850000</td>\n",
       "      <td>277143.0</td>\n",
       "      <td>NaN</td>\n",
       "      <td>7.965219e+10</td>\n",
       "      <td>Опубликовано</td>\n",
       "      <td>https://noginsk.cian.ru/sale/flat/12034729/</td>\n",
       "      <td>https://cdn-p.cian.site/images/4/892/911/novos...</td>\n",
       "      <td>08.10.2019 13:56:39</td>\n",
       "      <td>Богородский</td>\n",
       "    </tr>\n",
       "    <tr>\n",
       "      <th>1</th>\n",
       "      <td>12695191</td>\n",
       "      <td>Недвижимость в Москве/Продажа/Продажа 2-комнат...</td>\n",
       "      <td>2-комн. квартира, 70.03 м2</td>\n",
       "      <td>, Возможна ипотека</td>\n",
       "      <td>Новостройка</td>\n",
       "      <td>=\"70.03\"</td>\n",
       "      <td>=\"41.8\"</td>\n",
       "      <td>=\"13.7\"</td>\n",
       "      <td>2</td>\n",
       "      <td>17</td>\n",
       "      <td>...</td>\n",
       "      <td>Продается просторная двухкомнатная квартира 70...</td>\n",
       "      <td>7073030</td>\n",
       "      <td>389766.0</td>\n",
       "      <td>ИНКОМ-Новостройки</td>\n",
       "      <td>7.495163e+10</td>\n",
       "      <td>Опубликовано</td>\n",
       "      <td>https://www.cian.ru/sale/flat/12695191/</td>\n",
       "      <td>https://cdn-p.cian.site/images/3/824/736/novos...</td>\n",
       "      <td>11.10.2019 9:25:04</td>\n",
       "      <td>Москва</td>\n",
       "    </tr>\n",
       "    <tr>\n",
       "      <th>2</th>\n",
       "      <td>12722545</td>\n",
       "      <td>Недвижимость в Москве/Продажа/Продажа 3-комнат...</td>\n",
       "      <td>3-комн. квартира, 76.47 м2</td>\n",
       "      <td>, Возможна ипотека</td>\n",
       "      <td>Новостройка</td>\n",
       "      <td>=\"76.47\"</td>\n",
       "      <td>=\"43.4\"</td>\n",
       "      <td>=\"11.2\"</td>\n",
       "      <td>11</td>\n",
       "      <td>17</td>\n",
       "      <td>...</td>\n",
       "      <td>Продается трехкомнатная квартира 76,47 кв.м с ...</td>\n",
       "      <td>7799940</td>\n",
       "      <td>389766.0</td>\n",
       "      <td>ИНКОМ-Новостройки</td>\n",
       "      <td>7.495163e+10</td>\n",
       "      <td>Опубликовано</td>\n",
       "      <td>https://www.cian.ru/sale/flat/12722545/</td>\n",
       "      <td>https://cdn-p.cian.site/images2/5/690/176/novo...</td>\n",
       "      <td>11.10.2019 6:45:06</td>\n",
       "      <td>Москва</td>\n",
       "    </tr>\n",
       "    <tr>\n",
       "      <th>3</th>\n",
       "      <td>139130443</td>\n",
       "      <td>Недвижимость в Москве/Продажа/Продажа 2-комнат...</td>\n",
       "      <td>2-комн. квартира, 60.0 м2</td>\n",
       "      <td>NaN</td>\n",
       "      <td>Новостройка</td>\n",
       "      <td>=\"60.0\"</td>\n",
       "      <td>=\"38.0\"</td>\n",
       "      <td>=\"12.0\"</td>\n",
       "      <td>5</td>\n",
       "      <td>20</td>\n",
       "      <td>...</td>\n",
       "      <td>Дом сдан. Есть возможность перепланировать в 3...</td>\n",
       "      <td>11700000</td>\n",
       "      <td>199563.0</td>\n",
       "      <td>NaN</td>\n",
       "      <td>7.499410e+10</td>\n",
       "      <td>Опубликовано</td>\n",
       "      <td>https://www.cian.ru/sale/flat/139130443/</td>\n",
       "      <td>https://cdn-p.cian.site/images/5/002/116/novos...</td>\n",
       "      <td>11.10.2019 16:30:13</td>\n",
       "      <td>Москва</td>\n",
       "    </tr>\n",
       "    <tr>\n",
       "      <th>4</th>\n",
       "      <td>144201393</td>\n",
       "      <td>Недвижимость в Москве/Продажа/Продажа 2-комнат...</td>\n",
       "      <td>2-комн. квартира, 65.2 м2</td>\n",
       "      <td>, Возможна ипотека</td>\n",
       "      <td>Новостройка</td>\n",
       "      <td>=\"65.2\"</td>\n",
       "      <td>=\"\"</td>\n",
       "      <td>=\"\"</td>\n",
       "      <td>2</td>\n",
       "      <td>5</td>\n",
       "      <td>...</td>\n",
       "      <td>Дом построен. Получена собственность. Фактичес...</td>\n",
       "      <td>6055000</td>\n",
       "      <td>5949598.0</td>\n",
       "      <td>NaN</td>\n",
       "      <td>7.985130e+10</td>\n",
       "      <td>Опубликовано</td>\n",
       "      <td>https://www.cian.ru/sale/flat/144201393/</td>\n",
       "      <td>https://cdn-p.cian.site/images/4/379/115/novos...</td>\n",
       "      <td>09.10.2019 19:10:04</td>\n",
       "      <td>Красногорск</td>\n",
       "    </tr>\n",
       "  </tbody>\n",
       "</table>\n",
       "<p>5 rows × 38 columns</p>\n",
       "</div>"
      ],
      "text/plain": [
       "         Код                                          Категория  \\\n",
       "0   12034729  Недвижимость в Ногинске/Продажа/Продажа 1-комн...   \n",
       "1   12695191  Недвижимость в Москве/Продажа/Продажа 2-комнат...   \n",
       "2   12722545  Недвижимость в Москве/Продажа/Продажа 3-комнат...   \n",
       "3  139130443  Недвижимость в Москве/Продажа/Продажа 2-комнат...   \n",
       "4  144201393  Недвижимость в Москве/Продажа/Продажа 2-комнат...   \n",
       "\n",
       "                     Название                          Тип продажи  \\\n",
       "0   1-комн. квартира, 42.2 м2  Свободная продажа, Возможна ипотека   \n",
       "1  2-комн. квартира, 70.03 м2                   , Возможна ипотека   \n",
       "2  3-комн. квартира, 76.47 м2                   , Возможна ипотека   \n",
       "3   2-комн. квартира, 60.0 м2                                  NaN   \n",
       "4   2-комн. квартира, 65.2 м2                   , Возможна ипотека   \n",
       "\n",
       "  Объект продажи Общая площадь Жилая площадь Площадь кухни  Этаж  \\\n",
       "0    Новостройка       =\"42.2\"       =\"19.9\"       =\"11.0\"     2   \n",
       "1    Новостройка      =\"70.03\"       =\"41.8\"       =\"13.7\"     2   \n",
       "2    Новостройка      =\"76.47\"       =\"43.4\"       =\"11.2\"    11   \n",
       "3    Новостройка       =\"60.0\"       =\"38.0\"       =\"12.0\"     5   \n",
       "4    Новостройка       =\"65.2\"           =\"\"           =\"\"     2   \n",
       "\n",
       "   Этажей в доме  ...                                   Текст объявления  \\\n",
       "0              3  ...  Продается однокомнатная квартира в новостройке...   \n",
       "1             17  ...  Продается просторная двухкомнатная квартира 70...   \n",
       "2             17  ...  Продается трехкомнатная квартира 76,47 кв.м с ...   \n",
       "3             20  ...  Дом сдан. Есть возможность перепланировать в 3...   \n",
       "4              5  ...  Дом построен. Получена собственность. Фактичес...   \n",
       "\n",
       "   Стоимость  Id Пользователя       ФИО продавца Телефон продавца  \\\n",
       "0    2850000         277143.0                NaN     7.965219e+10   \n",
       "1    7073030         389766.0  ИНКОМ-Новостройки     7.495163e+10   \n",
       "2    7799940         389766.0  ИНКОМ-Новостройки     7.495163e+10   \n",
       "3   11700000         199563.0                NaN     7.499410e+10   \n",
       "4    6055000        5949598.0                NaN     7.985130e+10   \n",
       "\n",
       "  Признак актуальности                         Ссылка на объявление  \\\n",
       "0         Опубликовано  https://noginsk.cian.ru/sale/flat/12034729/   \n",
       "1         Опубликовано      https://www.cian.ru/sale/flat/12695191/   \n",
       "2         Опубликовано      https://www.cian.ru/sale/flat/12722545/   \n",
       "3         Опубликовано     https://www.cian.ru/sale/flat/139130443/   \n",
       "4         Опубликовано     https://www.cian.ru/sale/flat/144201393/   \n",
       "\n",
       "                                  Ссылки на картинки      Дата обновления  \\\n",
       "0  https://cdn-p.cian.site/images/4/892/911/novos...  08.10.2019 13:56:39   \n",
       "1  https://cdn-p.cian.site/images/3/824/736/novos...   11.10.2019 9:25:04   \n",
       "2  https://cdn-p.cian.site/images2/5/690/176/novo...   11.10.2019 6:45:06   \n",
       "3  https://cdn-p.cian.site/images/5/002/116/novos...  11.10.2019 16:30:13   \n",
       "4  https://cdn-p.cian.site/images/4/379/115/novos...  09.10.2019 19:10:04   \n",
       "\n",
       "   Регион Циан  \n",
       "0  Богородский  \n",
       "1       Москва  \n",
       "2       Москва  \n",
       "3       Москва  \n",
       "4  Красногорск  \n",
       "\n",
       "[5 rows x 38 columns]"
      ]
     },
     "execution_count": 6,
     "metadata": {},
     "output_type": "execute_result"
    }
   ],
   "source": [
    "cian_data_full.head()"
   ]
  },
  {
   "cell_type": "code",
   "execution_count": 7,
   "metadata": {},
   "outputs": [
    {
     "name": "stdout",
     "output_type": "stream",
     "text": [
      "<class 'pandas.core.frame.DataFrame'>\n",
      "RangeIndex: 37400 entries, 0 to 37399\n",
      "Data columns (total 38 columns):\n",
      " #   Column                       Non-Null Count  Dtype  \n",
      "---  ------                       --------------  -----  \n",
      " 0   Код                          37400 non-null  int64  \n",
      " 1   Категория                    37400 non-null  object \n",
      " 2   Название                     37400 non-null  object \n",
      " 3   Тип продажи                  36796 non-null  object \n",
      " 4   Объект продажи               37400 non-null  object \n",
      " 5   Общая площадь                37400 non-null  object \n",
      " 6   Жилая площадь                37400 non-null  object \n",
      " 7   Площадь кухни                37400 non-null  object \n",
      " 8   Этаж                         37400 non-null  int64  \n",
      " 9   Этажей в доме                37400 non-null  int64  \n",
      " 10  Лифт пассажирский (кол-во)   35984 non-null  float64\n",
      " 11  Лифт грузовой (кол-во)       35703 non-null  float64\n",
      " 12  Год строительства            257 non-null    float64\n",
      " 13  Балкон/лоджия                6835 non-null   object \n",
      " 14  Мусоропровод                 37400 non-null  object \n",
      " 15  Телефон                      37400 non-null  object \n",
      " 16  Парковка                     33142 non-null  object \n",
      " 17  Количество комнат            34976 non-null  float64\n",
      " 18  Тип дома                     37141 non-null  object \n",
      " 19  Название дома (ЖК)           37197 non-null  object \n",
      " 20  Высота потолков              16483 non-null  float64\n",
      " 21  Кол-во раздельных санузлов   29036 non-null  float64\n",
      " 22  Кол-во совмещенных санузлов  0 non-null      float64\n",
      " 23  Ремонт                       412 non-null    object \n",
      " 24  Вид из окон                  17680 non-null  object \n",
      " 25  Расстояние до метро          35409 non-null  object \n",
      " 26  Кол-во квартир в доме        2541 non-null   float64\n",
      " 27  Адрес                        37400 non-null  object \n",
      " 28  Текст объявления             37400 non-null  object \n",
      " 29  Стоимость                    37400 non-null  int64  \n",
      " 30  Id Пользователя              35370 non-null  float64\n",
      " 31  ФИО продавца                 33001 non-null  object \n",
      " 32  Телефон продавца             33251 non-null  float64\n",
      " 33  Признак актуальности         37400 non-null  object \n",
      " 34  Ссылка на объявление         37400 non-null  object \n",
      " 35  Ссылки на картинки           33144 non-null  object \n",
      " 36  Дата обновления              37400 non-null  object \n",
      " 37  Регион Циан                  37400 non-null  object \n",
      "dtypes: float64(10), int64(4), object(24)\n",
      "memory usage: 10.8+ MB\n"
     ]
    }
   ],
   "source": [
    "cian_data_full.info()"
   ]
  },
  {
   "cell_type": "code",
   "execution_count": 8,
   "metadata": {},
   "outputs": [
    {
     "data": {
      "text/plain": [
       "Код                              0.000000\n",
       "Категория                        0.000000\n",
       "Название                         0.000000\n",
       "Тип продажи                      1.614973\n",
       "Объект продажи                   0.000000\n",
       "Общая площадь                    0.000000\n",
       "Жилая площадь                    0.000000\n",
       "Площадь кухни                    0.000000\n",
       "Этаж                             0.000000\n",
       "Этажей в доме                    0.000000\n",
       "Лифт пассажирский (кол-во)       3.786096\n",
       "Лифт грузовой (кол-во)           4.537433\n",
       "Год строительства               99.312834\n",
       "Балкон/лоджия                   81.724599\n",
       "Мусоропровод                     0.000000\n",
       "Телефон                          0.000000\n",
       "Парковка                        11.385027\n",
       "Количество комнат                6.481283\n",
       "Тип дома                         0.692513\n",
       "Название дома (ЖК)               0.542781\n",
       "Высота потолков                 55.927807\n",
       "Кол-во раздельных санузлов      22.363636\n",
       "Кол-во совмещенных санузлов    100.000000\n",
       "Ремонт                          98.898396\n",
       "Вид из окон                     52.727273\n",
       "Расстояние до метро              5.323529\n",
       "Кол-во квартир в доме           93.205882\n",
       "Адрес                            0.000000\n",
       "Текст объявления                 0.000000\n",
       "Стоимость                        0.000000\n",
       "Id Пользователя                  5.427807\n",
       "ФИО продавца                    11.762032\n",
       "Телефон продавца                11.093583\n",
       "Признак актуальности             0.000000\n",
       "Ссылка на объявление             0.000000\n",
       "Ссылки на картинки              11.379679\n",
       "Дата обновления                  0.000000\n",
       "Регион Циан                      0.000000\n",
       "dtype: float64"
      ]
     },
     "execution_count": 8,
     "metadata": {},
     "output_type": "execute_result"
    }
   ],
   "source": [
    "# How much missing in percent\n",
    "(cian_data_full.isna().sum() / cian_data_full.shape[0]) * 100 "
   ]
  },
  {
   "cell_type": "code",
   "execution_count": 9,
   "metadata": {},
   "outputs": [
    {
     "data": {
      "text/plain": [
       "['Год строительства',\n",
       " 'Балкон/лоджия',\n",
       " 'Кол-во совмещенных санузлов',\n",
       " 'Ремонт',\n",
       " 'Кол-во квартир в доме']"
      ]
     },
     "execution_count": 9,
     "metadata": {},
     "output_type": "execute_result"
    }
   ],
   "source": [
    "missing_percents = (cian_data_full.isna().sum() / cian_data_full.shape[0]) * 100\n",
    "drop_columns = missing_percents[missing_percents > 70].index.to_list()\n",
    "drop_columns"
   ]
  },
  {
   "cell_type": "code",
   "execution_count": 10,
   "metadata": {},
   "outputs": [
    {
     "name": "stdout",
     "output_type": "stream",
     "text": [
      "Код : 37307\n",
      "Категория : 3650\n",
      "Название : 7211\n",
      "Тип продажи : 8\n",
      "Объект продажи : 2\n",
      "Общая площадь : 4603\n",
      "Жилая площадь : 731\n",
      "Площадь кухни : 371\n",
      "Этаж : 68\n",
      "Этажей в доме : 65\n",
      "Лифт пассажирский (кол-во) : 13\n",
      "Лифт грузовой (кол-во) : 13\n",
      "Год строительства : 58\n",
      "Балкон/лоджия : 3\n",
      "Мусоропровод : 2\n",
      "Телефон : 2\n",
      "Парковка : 4\n",
      "Количество комнат : 7\n",
      "Тип дома : 6\n",
      "Название дома (ЖК) : 777\n",
      "Высота потолков : 67\n",
      "Кол-во раздельных санузлов : 6\n",
      "Кол-во совмещенных санузлов : 1\n",
      "Ремонт : 5\n",
      "Вид из окон : 4\n",
      "Расстояние до метро : 139\n",
      "Кол-во квартир в доме : 343\n",
      "Адрес : 2340\n",
      "Текст объявления : 27209\n",
      "Стоимость : 30013\n",
      "Id Пользователя : 2800\n",
      "ФИО продавца : 1146\n",
      "Телефон продавца : 2921\n",
      "Признак актуальности : 3\n",
      "Ссылка на объявление : 37307\n",
      "Ссылки на картинки : 33055\n",
      "Дата обновления : 11467\n",
      "Регион Циан : 60\n"
     ]
    }
   ],
   "source": [
    "# How much unique values. Total - 37400 entries.\n",
    "for colname in cian_data_full.columns:\n",
    "    print(f'{colname} : {len(cian_data_full[colname].unique())}')"
   ]
  },
  {
   "cell_type": "code",
   "execution_count": 11,
   "metadata": {},
   "outputs": [],
   "source": [
    "drop_columns.extend(['Код', 'Текст объявления', 'Ссылка на объявление', \n",
    "                     'Ссылки на картинки', 'Телефон продавца', 'Id Пользователя', \n",
    "                     'Категория', 'Название'])"
   ]
  },
  {
   "cell_type": "code",
   "execution_count": 12,
   "metadata": {},
   "outputs": [
    {
     "data": {
      "text/plain": [
       "['Год строительства',\n",
       " 'Балкон/лоджия',\n",
       " 'Кол-во совмещенных санузлов',\n",
       " 'Ремонт',\n",
       " 'Кол-во квартир в доме',\n",
       " 'Код',\n",
       " 'Текст объявления',\n",
       " 'Ссылка на объявление',\n",
       " 'Ссылки на картинки',\n",
       " 'Телефон продавца',\n",
       " 'Id Пользователя',\n",
       " 'Категория',\n",
       " 'Название']"
      ]
     },
     "execution_count": 12,
     "metadata": {},
     "output_type": "execute_result"
    }
   ],
   "source": [
    "drop_columns"
   ]
  },
  {
   "cell_type": "code",
   "execution_count": 13,
   "metadata": {},
   "outputs": [],
   "source": [
    "cian_data = cian_data_full.drop(drop_columns, axis=1)"
   ]
  },
  {
   "cell_type": "markdown",
   "metadata": {},
   "source": [
    "### Look at features"
   ]
  },
  {
   "cell_type": "code",
   "execution_count": 14,
   "metadata": {},
   "outputs": [
    {
     "data": {
      "text/html": [
       "<div>\n",
       "<style scoped>\n",
       "    .dataframe tbody tr th:only-of-type {\n",
       "        vertical-align: middle;\n",
       "    }\n",
       "\n",
       "    .dataframe tbody tr th {\n",
       "        vertical-align: top;\n",
       "    }\n",
       "\n",
       "    .dataframe thead th {\n",
       "        text-align: right;\n",
       "    }\n",
       "</style>\n",
       "<table border=\"1\" class=\"dataframe\">\n",
       "  <thead>\n",
       "    <tr style=\"text-align: right;\">\n",
       "      <th></th>\n",
       "      <th>0</th>\n",
       "      <th>1</th>\n",
       "      <th>2</th>\n",
       "      <th>3</th>\n",
       "      <th>4</th>\n",
       "    </tr>\n",
       "  </thead>\n",
       "  <tbody>\n",
       "    <tr>\n",
       "      <th>Тип продажи</th>\n",
       "      <td>Свободная продажа, Возможна ипотека</td>\n",
       "      <td>, Возможна ипотека</td>\n",
       "      <td>, Возможна ипотека</td>\n",
       "      <td>NaN</td>\n",
       "      <td>, Возможна ипотека</td>\n",
       "    </tr>\n",
       "    <tr>\n",
       "      <th>Объект продажи</th>\n",
       "      <td>Новостройка</td>\n",
       "      <td>Новостройка</td>\n",
       "      <td>Новостройка</td>\n",
       "      <td>Новостройка</td>\n",
       "      <td>Новостройка</td>\n",
       "    </tr>\n",
       "    <tr>\n",
       "      <th>Общая площадь</th>\n",
       "      <td>=\"42.2\"</td>\n",
       "      <td>=\"70.03\"</td>\n",
       "      <td>=\"76.47\"</td>\n",
       "      <td>=\"60.0\"</td>\n",
       "      <td>=\"65.2\"</td>\n",
       "    </tr>\n",
       "    <tr>\n",
       "      <th>Жилая площадь</th>\n",
       "      <td>=\"19.9\"</td>\n",
       "      <td>=\"41.8\"</td>\n",
       "      <td>=\"43.4\"</td>\n",
       "      <td>=\"38.0\"</td>\n",
       "      <td>=\"\"</td>\n",
       "    </tr>\n",
       "    <tr>\n",
       "      <th>Площадь кухни</th>\n",
       "      <td>=\"11.0\"</td>\n",
       "      <td>=\"13.7\"</td>\n",
       "      <td>=\"11.2\"</td>\n",
       "      <td>=\"12.0\"</td>\n",
       "      <td>=\"\"</td>\n",
       "    </tr>\n",
       "    <tr>\n",
       "      <th>Этаж</th>\n",
       "      <td>2</td>\n",
       "      <td>2</td>\n",
       "      <td>11</td>\n",
       "      <td>5</td>\n",
       "      <td>2</td>\n",
       "    </tr>\n",
       "    <tr>\n",
       "      <th>Этажей в доме</th>\n",
       "      <td>3</td>\n",
       "      <td>17</td>\n",
       "      <td>17</td>\n",
       "      <td>20</td>\n",
       "      <td>5</td>\n",
       "    </tr>\n",
       "    <tr>\n",
       "      <th>Лифт пассажирский (кол-во)</th>\n",
       "      <td>NaN</td>\n",
       "      <td>1</td>\n",
       "      <td>1</td>\n",
       "      <td>2</td>\n",
       "      <td>0</td>\n",
       "    </tr>\n",
       "    <tr>\n",
       "      <th>Лифт грузовой (кол-во)</th>\n",
       "      <td>NaN</td>\n",
       "      <td>1</td>\n",
       "      <td>1</td>\n",
       "      <td>2</td>\n",
       "      <td>1</td>\n",
       "    </tr>\n",
       "    <tr>\n",
       "      <th>Мусоропровод</th>\n",
       "      <td>Нет</td>\n",
       "      <td>Да</td>\n",
       "      <td>Да</td>\n",
       "      <td>Нет</td>\n",
       "      <td>Нет</td>\n",
       "    </tr>\n",
       "    <tr>\n",
       "      <th>Телефон</th>\n",
       "      <td>Нет</td>\n",
       "      <td>Нет</td>\n",
       "      <td>Нет</td>\n",
       "      <td>Нет</td>\n",
       "      <td>Нет</td>\n",
       "    </tr>\n",
       "    <tr>\n",
       "      <th>Парковка</th>\n",
       "      <td>NaN</td>\n",
       "      <td>подземная</td>\n",
       "      <td>подземная</td>\n",
       "      <td>NaN</td>\n",
       "      <td>подземная</td>\n",
       "    </tr>\n",
       "    <tr>\n",
       "      <th>Количество комнат</th>\n",
       "      <td>1</td>\n",
       "      <td>2</td>\n",
       "      <td>3</td>\n",
       "      <td>2</td>\n",
       "      <td>2</td>\n",
       "    </tr>\n",
       "    <tr>\n",
       "      <th>Тип дома</th>\n",
       "      <td>Кирпичный</td>\n",
       "      <td>Монолитный</td>\n",
       "      <td>Монолитный</td>\n",
       "      <td>Монолитный</td>\n",
       "      <td>Монолитный</td>\n",
       "    </tr>\n",
       "    <tr>\n",
       "      <th>Название дома (ЖК)</th>\n",
       "      <td>ЖК «Маяковского»</td>\n",
       "      <td>ЖК «Белая звезда»</td>\n",
       "      <td>ЖК «Белая звезда»</td>\n",
       "      <td>ЖК «Хорошевский»</td>\n",
       "      <td>ЖК «Рублевское предместье»</td>\n",
       "    </tr>\n",
       "    <tr>\n",
       "      <th>Высота потолков</th>\n",
       "      <td>NaN</td>\n",
       "      <td>NaN</td>\n",
       "      <td>NaN</td>\n",
       "      <td>NaN</td>\n",
       "      <td>NaN</td>\n",
       "    </tr>\n",
       "    <tr>\n",
       "      <th>Кол-во раздельных санузлов</th>\n",
       "      <td>1</td>\n",
       "      <td>1</td>\n",
       "      <td>1</td>\n",
       "      <td>2</td>\n",
       "      <td>0</td>\n",
       "    </tr>\n",
       "    <tr>\n",
       "      <th>Вид из окон</th>\n",
       "      <td>Во двор</td>\n",
       "      <td>NaN</td>\n",
       "      <td>Во двор</td>\n",
       "      <td>На улицу и двор</td>\n",
       "      <td>На улицу и двор</td>\n",
       "    </tr>\n",
       "    <tr>\n",
       "      <th>Расстояние до метро</th>\n",
       "      <td>NaN</td>\n",
       "      <td>12 мин. на транспорте</td>\n",
       "      <td>12 мин. на транспорте</td>\n",
       "      <td>3 мин. на транспорте</td>\n",
       "      <td>NaN</td>\n",
       "    </tr>\n",
       "    <tr>\n",
       "      <th>Адрес</th>\n",
       "      <td>Московская область,Богородский городской округ...</td>\n",
       "      <td>Москва,НАО (Новомосковский),Щербинка,улица 40 ...</td>\n",
       "      <td>Москва,НАО (Новомосковский),Щербинка,улица 40 ...</td>\n",
       "      <td>Москва,СЗАО,район Хорошево-Мневники,3-я Хороше...</td>\n",
       "      <td>Московская область,Красногорск городской округ...</td>\n",
       "    </tr>\n",
       "    <tr>\n",
       "      <th>Стоимость</th>\n",
       "      <td>2850000</td>\n",
       "      <td>7073030</td>\n",
       "      <td>7799940</td>\n",
       "      <td>11700000</td>\n",
       "      <td>6055000</td>\n",
       "    </tr>\n",
       "    <tr>\n",
       "      <th>ФИО продавца</th>\n",
       "      <td>NaN</td>\n",
       "      <td>ИНКОМ-Новостройки</td>\n",
       "      <td>ИНКОМ-Новостройки</td>\n",
       "      <td>NaN</td>\n",
       "      <td>NaN</td>\n",
       "    </tr>\n",
       "    <tr>\n",
       "      <th>Признак актуальности</th>\n",
       "      <td>Опубликовано</td>\n",
       "      <td>Опубликовано</td>\n",
       "      <td>Опубликовано</td>\n",
       "      <td>Опубликовано</td>\n",
       "      <td>Опубликовано</td>\n",
       "    </tr>\n",
       "    <tr>\n",
       "      <th>Дата обновления</th>\n",
       "      <td>08.10.2019 13:56:39</td>\n",
       "      <td>11.10.2019 9:25:04</td>\n",
       "      <td>11.10.2019 6:45:06</td>\n",
       "      <td>11.10.2019 16:30:13</td>\n",
       "      <td>09.10.2019 19:10:04</td>\n",
       "    </tr>\n",
       "    <tr>\n",
       "      <th>Регион Циан</th>\n",
       "      <td>Богородский</td>\n",
       "      <td>Москва</td>\n",
       "      <td>Москва</td>\n",
       "      <td>Москва</td>\n",
       "      <td>Красногорск</td>\n",
       "    </tr>\n",
       "  </tbody>\n",
       "</table>\n",
       "</div>"
      ],
      "text/plain": [
       "                                                                            0  \\\n",
       "Тип продажи                               Свободная продажа, Возможна ипотека   \n",
       "Объект продажи                                                    Новостройка   \n",
       "Общая площадь                                                         =\"42.2\"   \n",
       "Жилая площадь                                                         =\"19.9\"   \n",
       "Площадь кухни                                                         =\"11.0\"   \n",
       "Этаж                                                                        2   \n",
       "Этажей в доме                                                               3   \n",
       "Лифт пассажирский (кол-во)                                                NaN   \n",
       "Лифт грузовой (кол-во)                                                    NaN   \n",
       "Мусоропровод                                                              Нет   \n",
       "Телефон                                                                   Нет   \n",
       "Парковка                                                                  NaN   \n",
       "Количество комнат                                                           1   \n",
       "Тип дома                                                            Кирпичный   \n",
       "Название дома (ЖК)                                           ЖК «Маяковского»   \n",
       "Высота потолков                                                           NaN   \n",
       "Кол-во раздельных санузлов                                                  1   \n",
       "Вид из окон                                                           Во двор   \n",
       "Расстояние до метро                                                       NaN   \n",
       "Адрес                       Московская область,Богородский городской округ...   \n",
       "Стоимость                                                             2850000   \n",
       "ФИО продавца                                                              NaN   \n",
       "Признак актуальности                                             Опубликовано   \n",
       "Дата обновления                                           08.10.2019 13:56:39   \n",
       "Регион Циан                                                       Богородский   \n",
       "\n",
       "                                                                            1  \\\n",
       "Тип продажи                                                , Возможна ипотека   \n",
       "Объект продажи                                                    Новостройка   \n",
       "Общая площадь                                                        =\"70.03\"   \n",
       "Жилая площадь                                                         =\"41.8\"   \n",
       "Площадь кухни                                                         =\"13.7\"   \n",
       "Этаж                                                                        2   \n",
       "Этажей в доме                                                              17   \n",
       "Лифт пассажирский (кол-во)                                                  1   \n",
       "Лифт грузовой (кол-во)                                                      1   \n",
       "Мусоропровод                                                               Да   \n",
       "Телефон                                                                   Нет   \n",
       "Парковка                                                            подземная   \n",
       "Количество комнат                                                           2   \n",
       "Тип дома                                                           Монолитный   \n",
       "Название дома (ЖК)                                          ЖК «Белая звезда»   \n",
       "Высота потолков                                                           NaN   \n",
       "Кол-во раздельных санузлов                                                  1   \n",
       "Вид из окон                                                               NaN   \n",
       "Расстояние до метро                                     12 мин. на транспорте   \n",
       "Адрес                       Москва,НАО (Новомосковский),Щербинка,улица 40 ...   \n",
       "Стоимость                                                             7073030   \n",
       "ФИО продавца                                                ИНКОМ-Новостройки   \n",
       "Признак актуальности                                             Опубликовано   \n",
       "Дата обновления                                            11.10.2019 9:25:04   \n",
       "Регион Циан                                                            Москва   \n",
       "\n",
       "                                                                            2  \\\n",
       "Тип продажи                                                , Возможна ипотека   \n",
       "Объект продажи                                                    Новостройка   \n",
       "Общая площадь                                                        =\"76.47\"   \n",
       "Жилая площадь                                                         =\"43.4\"   \n",
       "Площадь кухни                                                         =\"11.2\"   \n",
       "Этаж                                                                       11   \n",
       "Этажей в доме                                                              17   \n",
       "Лифт пассажирский (кол-во)                                                  1   \n",
       "Лифт грузовой (кол-во)                                                      1   \n",
       "Мусоропровод                                                               Да   \n",
       "Телефон                                                                   Нет   \n",
       "Парковка                                                            подземная   \n",
       "Количество комнат                                                           3   \n",
       "Тип дома                                                           Монолитный   \n",
       "Название дома (ЖК)                                          ЖК «Белая звезда»   \n",
       "Высота потолков                                                           NaN   \n",
       "Кол-во раздельных санузлов                                                  1   \n",
       "Вид из окон                                                           Во двор   \n",
       "Расстояние до метро                                     12 мин. на транспорте   \n",
       "Адрес                       Москва,НАО (Новомосковский),Щербинка,улица 40 ...   \n",
       "Стоимость                                                             7799940   \n",
       "ФИО продавца                                                ИНКОМ-Новостройки   \n",
       "Признак актуальности                                             Опубликовано   \n",
       "Дата обновления                                            11.10.2019 6:45:06   \n",
       "Регион Циан                                                            Москва   \n",
       "\n",
       "                                                                            3  \\\n",
       "Тип продажи                                                               NaN   \n",
       "Объект продажи                                                    Новостройка   \n",
       "Общая площадь                                                         =\"60.0\"   \n",
       "Жилая площадь                                                         =\"38.0\"   \n",
       "Площадь кухни                                                         =\"12.0\"   \n",
       "Этаж                                                                        5   \n",
       "Этажей в доме                                                              20   \n",
       "Лифт пассажирский (кол-во)                                                  2   \n",
       "Лифт грузовой (кол-во)                                                      2   \n",
       "Мусоропровод                                                              Нет   \n",
       "Телефон                                                                   Нет   \n",
       "Парковка                                                                  NaN   \n",
       "Количество комнат                                                           2   \n",
       "Тип дома                                                           Монолитный   \n",
       "Название дома (ЖК)                                           ЖК «Хорошевский»   \n",
       "Высота потолков                                                           NaN   \n",
       "Кол-во раздельных санузлов                                                  2   \n",
       "Вид из окон                                                   На улицу и двор   \n",
       "Расстояние до метро                                      3 мин. на транспорте   \n",
       "Адрес                       Москва,СЗАО,район Хорошево-Мневники,3-я Хороше...   \n",
       "Стоимость                                                            11700000   \n",
       "ФИО продавца                                                              NaN   \n",
       "Признак актуальности                                             Опубликовано   \n",
       "Дата обновления                                           11.10.2019 16:30:13   \n",
       "Регион Циан                                                            Москва   \n",
       "\n",
       "                                                                            4  \n",
       "Тип продажи                                                , Возможна ипотека  \n",
       "Объект продажи                                                    Новостройка  \n",
       "Общая площадь                                                         =\"65.2\"  \n",
       "Жилая площадь                                                             =\"\"  \n",
       "Площадь кухни                                                             =\"\"  \n",
       "Этаж                                                                        2  \n",
       "Этажей в доме                                                               5  \n",
       "Лифт пассажирский (кол-во)                                                  0  \n",
       "Лифт грузовой (кол-во)                                                      1  \n",
       "Мусоропровод                                                              Нет  \n",
       "Телефон                                                                   Нет  \n",
       "Парковка                                                            подземная  \n",
       "Количество комнат                                                           2  \n",
       "Тип дома                                                           Монолитный  \n",
       "Название дома (ЖК)                                 ЖК «Рублевское предместье»  \n",
       "Высота потолков                                                           NaN  \n",
       "Кол-во раздельных санузлов                                                  0  \n",
       "Вид из окон                                                   На улицу и двор  \n",
       "Расстояние до метро                                                       NaN  \n",
       "Адрес                       Московская область,Красногорск городской округ...  \n",
       "Стоимость                                                             6055000  \n",
       "ФИО продавца                                                              NaN  \n",
       "Признак актуальности                                             Опубликовано  \n",
       "Дата обновления                                           09.10.2019 19:10:04  \n",
       "Регион Циан                                                       Красногорск  "
      ]
     },
     "execution_count": 14,
     "metadata": {},
     "output_type": "execute_result"
    }
   ],
   "source": [
    "cian_data.head().T"
   ]
  },
  {
   "cell_type": "code",
   "execution_count": 15,
   "metadata": {},
   "outputs": [
    {
     "data": {
      "text/plain": [
       "Долевое участие (214-ФЗ)    29156\n",
       "                             4052\n",
       "Свободная продажа            3544\n",
       "Альтернатива                   44\n",
       "Name: 0, dtype: int64"
      ]
     },
     "execution_count": 15,
     "metadata": {},
     "output_type": "execute_result"
    }
   ],
   "source": [
    "cian_data['Тип продажи'].str.split(',', expand=True)[0].value_counts()"
   ]
  },
  {
   "cell_type": "code",
   "execution_count": 16,
   "metadata": {},
   "outputs": [
    {
     "data": {
      "text/plain": [
       " Возможна ипотека    36384\n",
       "Name: 1, dtype: int64"
      ]
     },
     "execution_count": 16,
     "metadata": {},
     "output_type": "execute_result"
    }
   ],
   "source": [
    "cian_data['Тип продажи'].str.split(',', expand=True)[1].value_counts()"
   ]
  },
  {
   "cell_type": "code",
   "execution_count": 17,
   "metadata": {},
   "outputs": [
    {
     "data": {
      "text/plain": [
       "0         42.20\n",
       "1         70.03\n",
       "2         76.47\n",
       "3         60.00\n",
       "4         65.20\n",
       "          ...  \n",
       "37395     62.50\n",
       "37396     80.40\n",
       "37397     84.00\n",
       "37398    104.90\n",
       "37399     72.71\n",
       "Name: Общая площадь, Length: 37400, dtype: float64"
      ]
     },
     "execution_count": 17,
     "metadata": {},
     "output_type": "execute_result"
    }
   ],
   "source": [
    "# for features [Общая площадь, Жилая площадь, Площадь кухни]\n",
    "cian_data['Общая площадь'].str.strip('=\\\"').astype('float')"
   ]
  },
  {
   "cell_type": "code",
   "execution_count": 18,
   "metadata": {},
   "outputs": [
    {
     "data": {
      "text/plain": [
       "подземная     15653\n",
       "Неизвестно    15238\n",
       "Наземная       2251\n",
       "Name: Парковка, dtype: int64"
      ]
     },
     "execution_count": 18,
     "metadata": {},
     "output_type": "execute_result"
    }
   ],
   "source": [
    "cian_data['Парковка'].value_counts()"
   ]
  },
  {
   "cell_type": "code",
   "execution_count": 19,
   "metadata": {},
   "outputs": [
    {
     "data": {
      "text/plain": [
       "3.000     2772\n",
       "2.650     2054\n",
       "2.700     1612\n",
       "2.800     1526\n",
       "3.100     1005\n",
       "          ... \n",
       "6.100        1\n",
       "2.400        1\n",
       "99.999       1\n",
       "4.800        1\n",
       "3.950        1\n",
       "Name: Высота потолков, Length: 66, dtype: int64"
      ]
     },
     "execution_count": 19,
     "metadata": {},
     "output_type": "execute_result"
    }
   ],
   "source": [
    "cian_data['Высота потолков'].value_counts()\n",
    "# 99.9 meters !?"
   ]
  },
  {
   "cell_type": "code",
   "execution_count": 20,
   "metadata": {},
   "outputs": [
    {
     "data": {
      "text/html": [
       "<div>\n",
       "<style scoped>\n",
       "    .dataframe tbody tr th:only-of-type {\n",
       "        vertical-align: middle;\n",
       "    }\n",
       "\n",
       "    .dataframe tbody tr th {\n",
       "        vertical-align: top;\n",
       "    }\n",
       "\n",
       "    .dataframe thead th {\n",
       "        text-align: right;\n",
       "    }\n",
       "</style>\n",
       "<table border=\"1\" class=\"dataframe\">\n",
       "  <thead>\n",
       "    <tr style=\"text-align: right;\">\n",
       "      <th></th>\n",
       "      <th>0</th>\n",
       "      <th>1</th>\n",
       "    </tr>\n",
       "  </thead>\n",
       "  <tbody>\n",
       "    <tr>\n",
       "      <th>0</th>\n",
       "      <td>NaN</td>\n",
       "      <td>NaN</td>\n",
       "    </tr>\n",
       "    <tr>\n",
       "      <th>1</th>\n",
       "      <td>12 мин</td>\n",
       "      <td>на транспорте</td>\n",
       "    </tr>\n",
       "    <tr>\n",
       "      <th>2</th>\n",
       "      <td>12 мин</td>\n",
       "      <td>на транспорте</td>\n",
       "    </tr>\n",
       "    <tr>\n",
       "      <th>3</th>\n",
       "      <td>3 мин</td>\n",
       "      <td>на транспорте</td>\n",
       "    </tr>\n",
       "    <tr>\n",
       "      <th>4</th>\n",
       "      <td>NaN</td>\n",
       "      <td>NaN</td>\n",
       "    </tr>\n",
       "    <tr>\n",
       "      <th>...</th>\n",
       "      <td>...</td>\n",
       "      <td>...</td>\n",
       "    </tr>\n",
       "    <tr>\n",
       "      <th>37395</th>\n",
       "      <td>NaN</td>\n",
       "      <td>NaN</td>\n",
       "    </tr>\n",
       "    <tr>\n",
       "      <th>37396</th>\n",
       "      <td>23 мин</td>\n",
       "      <td>на транспорте</td>\n",
       "    </tr>\n",
       "    <tr>\n",
       "      <th>37397</th>\n",
       "      <td>NaN</td>\n",
       "      <td>NaN</td>\n",
       "    </tr>\n",
       "    <tr>\n",
       "      <th>37398</th>\n",
       "      <td>NaN</td>\n",
       "      <td>NaN</td>\n",
       "    </tr>\n",
       "    <tr>\n",
       "      <th>37399</th>\n",
       "      <td>23 мин</td>\n",
       "      <td>на транспорте</td>\n",
       "    </tr>\n",
       "  </tbody>\n",
       "</table>\n",
       "<p>37400 rows × 2 columns</p>\n",
       "</div>"
      ],
      "text/plain": [
       "            0               1\n",
       "0         NaN             NaN\n",
       "1      12 мин   на транспорте\n",
       "2      12 мин   на транспорте\n",
       "3       3 мин   на транспорте\n",
       "4         NaN             NaN\n",
       "...       ...             ...\n",
       "37395     NaN             NaN\n",
       "37396  23 мин   на транспорте\n",
       "37397     NaN             NaN\n",
       "37398     NaN             NaN\n",
       "37399  23 мин   на транспорте\n",
       "\n",
       "[37400 rows x 2 columns]"
      ]
     },
     "execution_count": 20,
     "metadata": {},
     "output_type": "execute_result"
    }
   ],
   "source": [
    "cian_data['Расстояние до метро'].str.split('.', expand=True)"
   ]
  },
  {
   "cell_type": "code",
   "execution_count": 21,
   "metadata": {},
   "outputs": [
    {
     "data": {
      "text/plain": [
       "Опубликовано          33251\n",
       "Неизвестно             3885\n",
       "Cнято с публикации      264\n",
       "Name: Признак актуальности, dtype: int64"
      ]
     },
     "execution_count": 21,
     "metadata": {},
     "output_type": "execute_result"
    }
   ],
   "source": [
    "cian_data['Признак актуальности'].value_counts()"
   ]
  },
  {
   "cell_type": "code",
   "execution_count": 22,
   "metadata": {},
   "outputs": [],
   "source": [
    "cian_data_datetime = pd.to_datetime(cian_data['Дата обновления'])"
   ]
  },
  {
   "cell_type": "code",
   "execution_count": 23,
   "metadata": {},
   "outputs": [
    {
     "data": {
      "text/plain": [
       "2019    37325\n",
       "2018       61\n",
       "2017       13\n",
       "2016        1\n",
       "Name: Дата обновления, dtype: int64"
      ]
     },
     "execution_count": 23,
     "metadata": {},
     "output_type": "execute_result"
    }
   ],
   "source": [
    "cian_data_datetime.dt.year.value_counts()"
   ]
  },
  {
   "cell_type": "code",
   "execution_count": 24,
   "metadata": {},
   "outputs": [
    {
     "data": {
      "text/plain": [
       "(0, 60000000.0)"
      ]
     },
     "execution_count": 24,
     "metadata": {},
     "output_type": "execute_result"
    },
    {
     "data": {
      "image/png": "[encoded data removed]",
      "text/plain": [
       "<Figure size 1080x576 with 1 Axes>"
      ]
     },
     "metadata": {},
     "output_type": "display_data"
    }
   ],
   "source": [
    "plt.figure(figsize=(15,8))\n",
    "axes = sns.scatterplot(cian_data_datetime, cian_data['Стоимость'])\n",
    "\n",
    "axes.set_xlim([pd.to_datetime('20180101', format='%Y%m%d', errors='ignore'), \n",
    "               pd.to_datetime('20200101', format='%Y%m%d', errors='ignore')])\n",
    "axes.set_ylim(0, 0.6 * 10**8)"
   ]
  },
  {
   "cell_type": "code",
   "execution_count": 25,
   "metadata": {},
   "outputs": [
    {
     "data": {
      "text/plain": [
       "Москва            26773\n",
       "Люберецкий         1549\n",
       "Одинцовский        1262\n",
       "Ленинский          1093\n",
       "Мытищи             1038\n",
       "Балашихинский       974\n",
       "Химки               819\n",
       "Красногорск         766\n",
       "Красногорский       566\n",
       "Пушкинский          341\n",
       "Истра               249\n",
       "Наро-Фоминский      187\n",
       "Солнечногорск       180\n",
       "Раменский           178\n",
       "Королев             162\n",
       "Люберцы             134\n",
       "Богородский         118\n",
       "Реутов               99\n",
       "Дмитровский          88\n",
       "Электросталь         78\n",
       "Name: Регион Циан, dtype: int64"
      ]
     },
     "execution_count": 25,
     "metadata": {},
     "output_type": "execute_result"
    }
   ],
   "source": [
    "cian_data['Регион Циан'].value_counts().head(20)"
   ]
  },
  {
   "cell_type": "markdown",
   "metadata": {},
   "source": [
    "### Learn features and analyze"
   ]
  },
  {
   "cell_type": "markdown",
   "metadata": {},
   "source": [
    "#### \"Тип продажи\""
   ]
  },
  {
   "cell_type": "code",
   "execution_count": 26,
   "metadata": {},
   "outputs": [],
   "source": [
    "cian_data_type_sale = cian_data['Тип продажи'].str.split(',', expand=True)\n",
    "for feature in cian_data_type_sale.columns:\n",
    "    cian_data_type_sale[feature] = cian_data_type_sale[feature].str.strip()"
   ]
  },
  {
   "cell_type": "code",
   "execution_count": 27,
   "metadata": {},
   "outputs": [
    {
     "data": {
      "text/plain": [
       "['Долевое участие (214-ФЗ)',\n",
       " '',\n",
       " 'Свободная продажа',\n",
       " 'Альтернатива',\n",
       " 'Возможна ипотека']"
      ]
     },
     "execution_count": 27,
     "metadata": {},
     "output_type": "execute_result"
    }
   ],
   "source": [
    "(cian_data_type_sale[0].value_counts().index.to_list() + \n",
    " cian_data_type_sale[1].value_counts().index.to_list())"
   ]
  },
  {
   "cell_type": "code",
   "execution_count": 28,
   "metadata": {},
   "outputs": [],
   "source": [
    "# replace '' by NaN\n",
    "cian_data_type_sale[0] = cian_data_type_sale[0].map(lambda x: [x, np.nan][x == ''])\n",
    "cian_data_type_sale[1] = cian_data_type_sale[1].map(lambda x: [x, np.nan][x == ''])"
   ]
  },
  {
   "cell_type": "code",
   "execution_count": 29,
   "metadata": {},
   "outputs": [
    {
     "data": {
      "text/plain": [
       "0    4656\n",
       "1    1016\n",
       "dtype: int64"
      ]
     },
     "execution_count": 29,
     "metadata": {},
     "output_type": "execute_result"
    }
   ],
   "source": [
    "cian_data_type_sale.isnull().sum()"
   ]
  },
  {
   "cell_type": "code",
   "execution_count": 30,
   "metadata": {},
   "outputs": [
    {
     "data": {
      "text/html": [
       "<div>\n",
       "<style scoped>\n",
       "    .dataframe tbody tr th:only-of-type {\n",
       "        vertical-align: middle;\n",
       "    }\n",
       "\n",
       "    .dataframe tbody tr th {\n",
       "        vertical-align: top;\n",
       "    }\n",
       "\n",
       "    .dataframe thead th {\n",
       "        text-align: right;\n",
       "    }\n",
       "</style>\n",
       "<table border=\"1\" class=\"dataframe\">\n",
       "  <thead>\n",
       "    <tr style=\"text-align: right;\">\n",
       "      <th></th>\n",
       "      <th>Альтернатива</th>\n",
       "      <th>Долевое участие (214-ФЗ)</th>\n",
       "      <th>Свободная продажа</th>\n",
       "      <th>Возможна ипотека</th>\n",
       "    </tr>\n",
       "  </thead>\n",
       "  <tbody>\n",
       "    <tr>\n",
       "      <th>0</th>\n",
       "      <td>0</td>\n",
       "      <td>0</td>\n",
       "      <td>1</td>\n",
       "      <td>1</td>\n",
       "    </tr>\n",
       "    <tr>\n",
       "      <th>1</th>\n",
       "      <td>0</td>\n",
       "      <td>0</td>\n",
       "      <td>0</td>\n",
       "      <td>1</td>\n",
       "    </tr>\n",
       "    <tr>\n",
       "      <th>2</th>\n",
       "      <td>0</td>\n",
       "      <td>0</td>\n",
       "      <td>0</td>\n",
       "      <td>1</td>\n",
       "    </tr>\n",
       "    <tr>\n",
       "      <th>3</th>\n",
       "      <td>0</td>\n",
       "      <td>0</td>\n",
       "      <td>0</td>\n",
       "      <td>0</td>\n",
       "    </tr>\n",
       "    <tr>\n",
       "      <th>4</th>\n",
       "      <td>0</td>\n",
       "      <td>0</td>\n",
       "      <td>0</td>\n",
       "      <td>1</td>\n",
       "    </tr>\n",
       "  </tbody>\n",
       "</table>\n",
       "</div>"
      ],
      "text/plain": [
       "   Альтернатива  Долевое участие (214-ФЗ)  Свободная продажа  Возможна ипотека\n",
       "0             0                         0                  1                 1\n",
       "1             0                         0                  0                 1\n",
       "2             0                         0                  0                 1\n",
       "3             0                         0                  0                 0\n",
       "4             0                         0                  0                 1"
      ]
     },
     "execution_count": 30,
     "metadata": {},
     "output_type": "execute_result"
    }
   ],
   "source": [
    "cian_data_type_sale = pd.get_dummies(cian_data_type_sale, prefix='', prefix_sep='')\n",
    "cian_data_type_sale.head()"
   ]
  },
  {
   "cell_type": "markdown",
   "metadata": {},
   "source": [
    "#### \"Площадь\""
   ]
  },
  {
   "cell_type": "code",
   "execution_count": 31,
   "metadata": {},
   "outputs": [
    {
     "data": {
      "text/plain": [
       "0         42.20\n",
       "1         70.03\n",
       "2         76.47\n",
       "3         60.00\n",
       "4         65.20\n",
       "          ...  \n",
       "37395     62.50\n",
       "37396     80.40\n",
       "37397     84.00\n",
       "37398    104.90\n",
       "37399     72.71\n",
       "Name: Общая площадь, Length: 37400, dtype: float64"
      ]
     },
     "execution_count": 31,
     "metadata": {},
     "output_type": "execute_result"
    }
   ],
   "source": [
    "cian_data['Общая площадь'].str.strip('=\\\"').astype('float')\n",
    "# Общая площадь, Жилая площадь, Площадь кухни"
   ]
  },
  {
   "cell_type": "code",
   "execution_count": 32,
   "metadata": {},
   "outputs": [],
   "source": [
    "cian_data_areas = pd.DataFrame()\n",
    "area_features = ['Общая площадь', 'Жилая площадь', 'Площадь кухни']\n",
    "for column in area_features:\n",
    "    cian_data_areas[column] = (cian_data[column].str.strip('=\\\"')\n",
    "                               .replace('', np.nan)\n",
    "                               .astype('float'))"
   ]
  },
  {
   "cell_type": "code",
   "execution_count": 33,
   "metadata": {},
   "outputs": [
    {
     "data": {
      "text/html": [
       "<div>\n",
       "<style scoped>\n",
       "    .dataframe tbody tr th:only-of-type {\n",
       "        vertical-align: middle;\n",
       "    }\n",
       "\n",
       "    .dataframe tbody tr th {\n",
       "        vertical-align: top;\n",
       "    }\n",
       "\n",
       "    .dataframe thead th {\n",
       "        text-align: right;\n",
       "    }\n",
       "</style>\n",
       "<table border=\"1\" class=\"dataframe\">\n",
       "  <thead>\n",
       "    <tr style=\"text-align: right;\">\n",
       "      <th></th>\n",
       "      <th>Общая площадь</th>\n",
       "      <th>Жилая площадь</th>\n",
       "      <th>Площадь кухни</th>\n",
       "    </tr>\n",
       "  </thead>\n",
       "  <tbody>\n",
       "    <tr>\n",
       "      <th>0</th>\n",
       "      <td>42.20</td>\n",
       "      <td>19.9</td>\n",
       "      <td>11.0</td>\n",
       "    </tr>\n",
       "    <tr>\n",
       "      <th>1</th>\n",
       "      <td>70.03</td>\n",
       "      <td>41.8</td>\n",
       "      <td>13.7</td>\n",
       "    </tr>\n",
       "    <tr>\n",
       "      <th>2</th>\n",
       "      <td>76.47</td>\n",
       "      <td>43.4</td>\n",
       "      <td>11.2</td>\n",
       "    </tr>\n",
       "    <tr>\n",
       "      <th>3</th>\n",
       "      <td>60.00</td>\n",
       "      <td>38.0</td>\n",
       "      <td>12.0</td>\n",
       "    </tr>\n",
       "    <tr>\n",
       "      <th>4</th>\n",
       "      <td>65.20</td>\n",
       "      <td>NaN</td>\n",
       "      <td>NaN</td>\n",
       "    </tr>\n",
       "  </tbody>\n",
       "</table>\n",
       "</div>"
      ],
      "text/plain": [
       "   Общая площадь  Жилая площадь  Площадь кухни\n",
       "0          42.20           19.9           11.0\n",
       "1          70.03           41.8           13.7\n",
       "2          76.47           43.4           11.2\n",
       "3          60.00           38.0           12.0\n",
       "4          65.20            NaN            NaN"
      ]
     },
     "execution_count": 33,
     "metadata": {},
     "output_type": "execute_result"
    }
   ],
   "source": [
    "cian_data_areas.head()"
   ]
  },
  {
   "cell_type": "code",
   "execution_count": 34,
   "metadata": {},
   "outputs": [
    {
     "data": {
      "text/plain": [
       "Общая площадь    False\n",
       "Жилая площадь     True\n",
       "Площадь кухни     True\n",
       "dtype: bool"
      ]
     },
     "execution_count": 34,
     "metadata": {},
     "output_type": "execute_result"
    }
   ],
   "source": [
    "cian_data_areas.isna().any()"
   ]
  },
  {
   "cell_type": "code",
   "execution_count": 35,
   "metadata": {},
   "outputs": [
    {
     "data": {
      "image/png": "[encoded data removed]",
      "text/plain": [
       "<Figure size 432x288 with 1 Axes>"
      ]
     },
     "metadata": {},
     "output_type": "display_data"
    }
   ],
   "source": [
    "# Find mean value for living area and kitchen area'\n",
    "\n",
    "hallway_area = ((cian_data_areas['Общая площадь'] - cian_data_areas['Жилая площадь'] - \n",
    "          cian_data_areas['Площадь кухни']) / cian_data_areas['Общая площадь'])\n",
    "hallway_area.hist(bins=30)\n",
    "hallway_area_median = hallway_area.median()"
   ]
  },
  {
   "cell_type": "code",
   "execution_count": 36,
   "metadata": {},
   "outputs": [],
   "source": [
    "# ratio_living_kitchen = (cian_data_areas['Жилая площадь'] / \n",
    "#                         cian_data_areas['Площадь кухни'])\n",
    "# ratio_living_kitchen.hist(bins=30)\n",
    "# ratio_living_kitchen_median = ratio_living_kitchen.median()"
   ]
  },
  {
   "cell_type": "code",
   "execution_count": 37,
   "metadata": {},
   "outputs": [],
   "source": [
    "# cian_data_areas['Жилая площадь'].map(lambda x: )\n",
    "# for index, row in cian_data_areas.iterrows():\n",
    "#     if not row['Жилая площадь']:\n",
    "#         print(index, row)"
   ]
  },
  {
   "cell_type": "code",
   "execution_count": 38,
   "metadata": {},
   "outputs": [],
   "source": [
    "# cian_data_areas_living = ((cian_data_areas['Общая площадь'] - hallway_area_median) *\n",
    "#                           (1 - 1 / (ratio_living_kitchen_median + 1)))\n",
    "# pd.concat( (cian_data_areas_living, cian_data_areas['Площадь кухни']), axis=1)"
   ]
  },
  {
   "cell_type": "code",
   "execution_count": 39,
   "metadata": {},
   "outputs": [
    {
     "data": {
      "text/plain": [
       "13.8"
      ]
     },
     "execution_count": 39,
     "metadata": {},
     "output_type": "execute_result"
    }
   ],
   "source": [
    "kitchen_area_median = cian_data_areas['Площадь кухни'].median()\n",
    "kitchen_area_median\n",
    "# living_area_median = cian_data_areas['Общая площадь'] - hallway_area_median - kitchen_area_median"
   ]
  },
  {
   "cell_type": "code",
   "execution_count": 40,
   "metadata": {},
   "outputs": [],
   "source": [
    "cian_data_areas.fillna(value={'Площадь кухни': kitchen_area_median}, inplace=True)"
   ]
  },
  {
   "cell_type": "code",
   "execution_count": 41,
   "metadata": {},
   "outputs": [
    {
     "data": {
      "text/html": [
       "<div>\n",
       "<style scoped>\n",
       "    .dataframe tbody tr th:only-of-type {\n",
       "        vertical-align: middle;\n",
       "    }\n",
       "\n",
       "    .dataframe tbody tr th {\n",
       "        vertical-align: top;\n",
       "    }\n",
       "\n",
       "    .dataframe thead th {\n",
       "        text-align: right;\n",
       "    }\n",
       "</style>\n",
       "<table border=\"1\" class=\"dataframe\">\n",
       "  <thead>\n",
       "    <tr style=\"text-align: right;\">\n",
       "      <th></th>\n",
       "      <th>Общая площадь</th>\n",
       "      <th>Жилая площадь</th>\n",
       "      <th>Площадь кухни</th>\n",
       "    </tr>\n",
       "  </thead>\n",
       "  <tbody>\n",
       "    <tr>\n",
       "      <th>0</th>\n",
       "      <td>42.20</td>\n",
       "      <td>19.9</td>\n",
       "      <td>11.0</td>\n",
       "    </tr>\n",
       "    <tr>\n",
       "      <th>1</th>\n",
       "      <td>70.03</td>\n",
       "      <td>41.8</td>\n",
       "      <td>13.7</td>\n",
       "    </tr>\n",
       "    <tr>\n",
       "      <th>2</th>\n",
       "      <td>76.47</td>\n",
       "      <td>43.4</td>\n",
       "      <td>11.2</td>\n",
       "    </tr>\n",
       "    <tr>\n",
       "      <th>3</th>\n",
       "      <td>60.00</td>\n",
       "      <td>38.0</td>\n",
       "      <td>12.0</td>\n",
       "    </tr>\n",
       "    <tr>\n",
       "      <th>4</th>\n",
       "      <td>65.20</td>\n",
       "      <td>NaN</td>\n",
       "      <td>13.8</td>\n",
       "    </tr>\n",
       "    <tr>\n",
       "      <th>...</th>\n",
       "      <td>...</td>\n",
       "      <td>...</td>\n",
       "      <td>...</td>\n",
       "    </tr>\n",
       "    <tr>\n",
       "      <th>37395</th>\n",
       "      <td>62.50</td>\n",
       "      <td>34.0</td>\n",
       "      <td>9.6</td>\n",
       "    </tr>\n",
       "    <tr>\n",
       "      <th>37396</th>\n",
       "      <td>80.40</td>\n",
       "      <td>40.8</td>\n",
       "      <td>12.3</td>\n",
       "    </tr>\n",
       "    <tr>\n",
       "      <th>37397</th>\n",
       "      <td>84.00</td>\n",
       "      <td>45.0</td>\n",
       "      <td>12.5</td>\n",
       "    </tr>\n",
       "    <tr>\n",
       "      <th>37398</th>\n",
       "      <td>104.90</td>\n",
       "      <td>60.0</td>\n",
       "      <td>13.8</td>\n",
       "    </tr>\n",
       "    <tr>\n",
       "      <th>37399</th>\n",
       "      <td>72.71</td>\n",
       "      <td>33.0</td>\n",
       "      <td>16.5</td>\n",
       "    </tr>\n",
       "  </tbody>\n",
       "</table>\n",
       "<p>37400 rows × 3 columns</p>\n",
       "</div>"
      ],
      "text/plain": [
       "       Общая площадь  Жилая площадь  Площадь кухни\n",
       "0              42.20           19.9           11.0\n",
       "1              70.03           41.8           13.7\n",
       "2              76.47           43.4           11.2\n",
       "3              60.00           38.0           12.0\n",
       "4              65.20            NaN           13.8\n",
       "...              ...            ...            ...\n",
       "37395          62.50           34.0            9.6\n",
       "37396          80.40           40.8           12.3\n",
       "37397          84.00           45.0           12.5\n",
       "37398         104.90           60.0           13.8\n",
       "37399          72.71           33.0           16.5\n",
       "\n",
       "[37400 rows x 3 columns]"
      ]
     },
     "execution_count": 41,
     "metadata": {},
     "output_type": "execute_result"
    }
   ],
   "source": [
    "cian_data_areas"
   ]
  },
  {
   "cell_type": "code",
   "execution_count": 42,
   "metadata": {},
   "outputs": [],
   "source": [
    "for index, _ in (cian_data_areas['Жилая площадь']\n",
    "                 [cian_data_areas['Жилая площадь'].isna()].items()):\n",
    "    \n",
    "    replace_value = (cian_data_areas['Общая площадь'][index] -\n",
    "                     cian_data_areas['Площадь кухни'][index])\n",
    "    \n",
    "    cian_data_areas['Жилая площадь'][index] = replace_value"
   ]
  },
  {
   "cell_type": "code",
   "execution_count": 43,
   "metadata": {},
   "outputs": [
    {
     "data": {
      "text/plain": [
       "Общая площадь    0\n",
       "Жилая площадь    0\n",
       "Площадь кухни    0\n",
       "dtype: int64"
      ]
     },
     "execution_count": 43,
     "metadata": {},
     "output_type": "execute_result"
    }
   ],
   "source": [
    "cian_data_areas.isnull().sum()"
   ]
  },
  {
   "cell_type": "markdown",
   "metadata": {},
   "source": [
    "#### \"Numeric features\""
   ]
  },
  {
   "cell_type": "code",
   "execution_count": 44,
   "metadata": {},
   "outputs": [
    {
     "name": "stdout",
     "output_type": "stream",
     "text": [
      "<class 'pandas.core.frame.DataFrame'>\n",
      "RangeIndex: 37400 entries, 0 to 37399\n",
      "Data columns (total 8 columns):\n",
      " #   Column                      Non-Null Count  Dtype  \n",
      "---  ------                      --------------  -----  \n",
      " 0   Этаж                        37400 non-null  int64  \n",
      " 1   Этажей в доме               37400 non-null  int64  \n",
      " 2   Лифт пассажирский (кол-во)  35984 non-null  float64\n",
      " 3   Лифт грузовой (кол-во)      35703 non-null  float64\n",
      " 4   Количество комнат           34976 non-null  float64\n",
      " 5   Высота потолков             16483 non-null  float64\n",
      " 6   Кол-во раздельных санузлов  29036 non-null  float64\n",
      " 7   Стоимость                   37400 non-null  int64  \n",
      "dtypes: float64(5), int64(3)\n",
      "memory usage: 2.3 MB\n"
     ]
    }
   ],
   "source": [
    "numerics = ['int16', 'int32', 'int64', 'float16', 'float32', 'float64']\n",
    "cian_data.select_dtypes(include=numerics).info()"
   ]
  },
  {
   "cell_type": "code",
   "execution_count": 45,
   "metadata": {},
   "outputs": [
    {
     "data": {
      "text/plain": [
       "<matplotlib.axes._subplots.AxesSubplot at 0x150caa9ffc8>"
      ]
     },
     "execution_count": 45,
     "metadata": {},
     "output_type": "execute_result"
    },
    {
     "data": {
      "image/png": "[encoded data removed]",
      "text/plain": [
       "<Figure size 432x288 with 1 Axes>"
      ]
     },
     "metadata": {},
     "output_type": "display_data"
    }
   ],
   "source": [
    "sns.scatterplot(cian_data['Высота потолков'].index, cian_data['Высота потолков'].values)\n",
    "# height > 6 meters is unusual"
   ]
  },
  {
   "cell_type": "code",
   "execution_count": 46,
   "metadata": {},
   "outputs": [],
   "source": [
    "cian_data_height_medium = cian_data['Высота потолков'].median()"
   ]
  },
  {
   "cell_type": "code",
   "execution_count": 47,
   "metadata": {},
   "outputs": [
    {
     "data": {
      "text/html": [
       "<div>\n",
       "<style scoped>\n",
       "    .dataframe tbody tr th:only-of-type {\n",
       "        vertical-align: middle;\n",
       "    }\n",
       "\n",
       "    .dataframe tbody tr th {\n",
       "        vertical-align: top;\n",
       "    }\n",
       "\n",
       "    .dataframe thead th {\n",
       "        text-align: right;\n",
       "    }\n",
       "</style>\n",
       "<table border=\"1\" class=\"dataframe\">\n",
       "  <thead>\n",
       "    <tr style=\"text-align: right;\">\n",
       "      <th></th>\n",
       "      <th>Тип продажи</th>\n",
       "      <th>Объект продажи</th>\n",
       "      <th>Общая площадь</th>\n",
       "      <th>Жилая площадь</th>\n",
       "      <th>Площадь кухни</th>\n",
       "      <th>Этаж</th>\n",
       "      <th>Этажей в доме</th>\n",
       "      <th>Лифт пассажирский (кол-во)</th>\n",
       "      <th>Лифт грузовой (кол-во)</th>\n",
       "      <th>Мусоропровод</th>\n",
       "      <th>...</th>\n",
       "      <th>Высота потолков</th>\n",
       "      <th>Кол-во раздельных санузлов</th>\n",
       "      <th>Вид из окон</th>\n",
       "      <th>Расстояние до метро</th>\n",
       "      <th>Адрес</th>\n",
       "      <th>Стоимость</th>\n",
       "      <th>ФИО продавца</th>\n",
       "      <th>Признак актуальности</th>\n",
       "      <th>Дата обновления</th>\n",
       "      <th>Регион Циан</th>\n",
       "    </tr>\n",
       "  </thead>\n",
       "  <tbody>\n",
       "    <tr>\n",
       "      <th>4005</th>\n",
       "      <td>Альтернатива, Возможна ипотека</td>\n",
       "      <td>Вторичка</td>\n",
       "      <td>=\"56.0\"</td>\n",
       "      <td>=\"43.0\"</td>\n",
       "      <td>=\"6.0\"</td>\n",
       "      <td>2</td>\n",
       "      <td>5</td>\n",
       "      <td>NaN</td>\n",
       "      <td>NaN</td>\n",
       "      <td>Нет</td>\n",
       "      <td>...</td>\n",
       "      <td>10.000</td>\n",
       "      <td>1.0</td>\n",
       "      <td>На улицу и двор</td>\n",
       "      <td>NaN</td>\n",
       "      <td>Московская область,Солнечногорск городской окр...</td>\n",
       "      <td>4650000</td>\n",
       "      <td>NaN</td>\n",
       "      <td>Опубликовано</td>\n",
       "      <td>28.09.2019 19:04:57</td>\n",
       "      <td>Солнечногорск</td>\n",
       "    </tr>\n",
       "    <tr>\n",
       "      <th>19840</th>\n",
       "      <td>Альтернатива</td>\n",
       "      <td>Вторичка</td>\n",
       "      <td>=\"42.0\"</td>\n",
       "      <td>=\"21.0\"</td>\n",
       "      <td>=\"10.0\"</td>\n",
       "      <td>14</td>\n",
       "      <td>17</td>\n",
       "      <td>0.0</td>\n",
       "      <td>0.0</td>\n",
       "      <td>Нет</td>\n",
       "      <td>...</td>\n",
       "      <td>99.999</td>\n",
       "      <td>0.0</td>\n",
       "      <td>Во двор</td>\n",
       "      <td>15 мин. на транспорте</td>\n",
       "      <td>Москва,НАО (Новомосковский),Московский,микрора...</td>\n",
       "      <td>6750000</td>\n",
       "      <td>NaN</td>\n",
       "      <td>Опубликовано</td>\n",
       "      <td>11.10.2019 21:48:42</td>\n",
       "      <td>Москва</td>\n",
       "    </tr>\n",
       "    <tr>\n",
       "      <th>26670</th>\n",
       "      <td>Свободная продажа</td>\n",
       "      <td>Вторичка</td>\n",
       "      <td>=\"127.0\"</td>\n",
       "      <td>=\"\"</td>\n",
       "      <td>=\"\"</td>\n",
       "      <td>2</td>\n",
       "      <td>6</td>\n",
       "      <td>1.0</td>\n",
       "      <td>1.0</td>\n",
       "      <td>Нет</td>\n",
       "      <td>...</td>\n",
       "      <td>320.000</td>\n",
       "      <td>1.0</td>\n",
       "      <td>На улицу и двор</td>\n",
       "      <td>NaN</td>\n",
       "      <td>Москва,ЦАО,район Замоскворечье,Озерковская наб...</td>\n",
       "      <td>97000000</td>\n",
       "      <td>Виталия Парамут</td>\n",
       "      <td>Опубликовано</td>\n",
       "      <td>10.10.2019 23:25:03</td>\n",
       "      <td>Москва</td>\n",
       "    </tr>\n",
       "  </tbody>\n",
       "</table>\n",
       "<p>3 rows × 25 columns</p>\n",
       "</div>"
      ],
      "text/plain": [
       "                          Тип продажи Объект продажи Общая площадь  \\\n",
       "4005   Альтернатива, Возможна ипотека       Вторичка       =\"56.0\"   \n",
       "19840                    Альтернатива       Вторичка       =\"42.0\"   \n",
       "26670               Свободная продажа       Вторичка      =\"127.0\"   \n",
       "\n",
       "      Жилая площадь Площадь кухни  Этаж  Этажей в доме  \\\n",
       "4005        =\"43.0\"        =\"6.0\"     2              5   \n",
       "19840       =\"21.0\"       =\"10.0\"    14             17   \n",
       "26670           =\"\"           =\"\"     2              6   \n",
       "\n",
       "       Лифт пассажирский (кол-во)  Лифт грузовой (кол-во) Мусоропровод  ...  \\\n",
       "4005                          NaN                     NaN          Нет  ...   \n",
       "19840                         0.0                     0.0          Нет  ...   \n",
       "26670                         1.0                     1.0          Нет  ...   \n",
       "\n",
       "      Высота потолков Кол-во раздельных санузлов      Вид из окон  \\\n",
       "4005           10.000                        1.0  На улицу и двор   \n",
       "19840          99.999                        0.0          Во двор   \n",
       "26670         320.000                        1.0  На улицу и двор   \n",
       "\n",
       "         Расстояние до метро  \\\n",
       "4005                     NaN   \n",
       "19840  15 мин. на транспорте   \n",
       "26670                    NaN   \n",
       "\n",
       "                                                   Адрес  Стоимость  \\\n",
       "4005   Московская область,Солнечногорск городской окр...    4650000   \n",
       "19840  Москва,НАО (Новомосковский),Московский,микрора...    6750000   \n",
       "26670  Москва,ЦАО,район Замоскворечье,Озерковская наб...   97000000   \n",
       "\n",
       "          ФИО продавца Признак актуальности      Дата обновления  \\\n",
       "4005               NaN         Опубликовано  28.09.2019 19:04:57   \n",
       "19840              NaN         Опубликовано  11.10.2019 21:48:42   \n",
       "26670  Виталия Парамут         Опубликовано  10.10.2019 23:25:03   \n",
       "\n",
       "         Регион Циан  \n",
       "4005   Солнечногорск  \n",
       "19840         Москва  \n",
       "26670         Москва  \n",
       "\n",
       "[3 rows x 25 columns]"
      ]
     },
     "execution_count": 47,
     "metadata": {},
     "output_type": "execute_result"
    }
   ],
   "source": [
    "cian_data[cian_data['Высота потолков'] > 7]\n",
    "# Drop these points later"
   ]
  },
  {
   "cell_type": "code",
   "execution_count": 48,
   "metadata": {},
   "outputs": [
    {
     "data": {
      "text/html": [
       "<div>\n",
       "<style scoped>\n",
       "    .dataframe tbody tr th:only-of-type {\n",
       "        vertical-align: middle;\n",
       "    }\n",
       "\n",
       "    .dataframe tbody tr th {\n",
       "        vertical-align: top;\n",
       "    }\n",
       "\n",
       "    .dataframe thead th {\n",
       "        text-align: right;\n",
       "    }\n",
       "</style>\n",
       "<table border=\"1\" class=\"dataframe\">\n",
       "  <thead>\n",
       "    <tr style=\"text-align: right;\">\n",
       "      <th></th>\n",
       "      <th>Этаж</th>\n",
       "      <th>Этажей в доме</th>\n",
       "      <th>Лифт пассажирский (кол-во)</th>\n",
       "      <th>Лифт грузовой (кол-во)</th>\n",
       "      <th>Количество комнат</th>\n",
       "      <th>Высота потолков</th>\n",
       "      <th>Кол-во раздельных санузлов</th>\n",
       "      <th>Стоимость</th>\n",
       "    </tr>\n",
       "  </thead>\n",
       "  <tbody>\n",
       "    <tr>\n",
       "      <th>0</th>\n",
       "      <td>2</td>\n",
       "      <td>3</td>\n",
       "      <td>0.0</td>\n",
       "      <td>0.0</td>\n",
       "      <td>1.0</td>\n",
       "      <td>2.85</td>\n",
       "      <td>1.0</td>\n",
       "      <td>2850000</td>\n",
       "    </tr>\n",
       "    <tr>\n",
       "      <th>1</th>\n",
       "      <td>2</td>\n",
       "      <td>17</td>\n",
       "      <td>1.0</td>\n",
       "      <td>1.0</td>\n",
       "      <td>2.0</td>\n",
       "      <td>2.85</td>\n",
       "      <td>1.0</td>\n",
       "      <td>7073030</td>\n",
       "    </tr>\n",
       "    <tr>\n",
       "      <th>2</th>\n",
       "      <td>11</td>\n",
       "      <td>17</td>\n",
       "      <td>1.0</td>\n",
       "      <td>1.0</td>\n",
       "      <td>3.0</td>\n",
       "      <td>2.85</td>\n",
       "      <td>1.0</td>\n",
       "      <td>7799940</td>\n",
       "    </tr>\n",
       "    <tr>\n",
       "      <th>3</th>\n",
       "      <td>5</td>\n",
       "      <td>20</td>\n",
       "      <td>2.0</td>\n",
       "      <td>2.0</td>\n",
       "      <td>2.0</td>\n",
       "      <td>2.85</td>\n",
       "      <td>2.0</td>\n",
       "      <td>11700000</td>\n",
       "    </tr>\n",
       "    <tr>\n",
       "      <th>4</th>\n",
       "      <td>2</td>\n",
       "      <td>5</td>\n",
       "      <td>0.0</td>\n",
       "      <td>1.0</td>\n",
       "      <td>2.0</td>\n",
       "      <td>2.85</td>\n",
       "      <td>0.0</td>\n",
       "      <td>6055000</td>\n",
       "    </tr>\n",
       "    <tr>\n",
       "      <th>...</th>\n",
       "      <td>...</td>\n",
       "      <td>...</td>\n",
       "      <td>...</td>\n",
       "      <td>...</td>\n",
       "      <td>...</td>\n",
       "      <td>...</td>\n",
       "      <td>...</td>\n",
       "      <td>...</td>\n",
       "    </tr>\n",
       "    <tr>\n",
       "      <th>37395</th>\n",
       "      <td>3</td>\n",
       "      <td>3</td>\n",
       "      <td>0.0</td>\n",
       "      <td>0.0</td>\n",
       "      <td>2.0</td>\n",
       "      <td>2.85</td>\n",
       "      <td>1.0</td>\n",
       "      <td>4312500</td>\n",
       "    </tr>\n",
       "    <tr>\n",
       "      <th>37396</th>\n",
       "      <td>3</td>\n",
       "      <td>3</td>\n",
       "      <td>0.0</td>\n",
       "      <td>0.0</td>\n",
       "      <td>3.0</td>\n",
       "      <td>2.85</td>\n",
       "      <td>1.0</td>\n",
       "      <td>5102860</td>\n",
       "    </tr>\n",
       "    <tr>\n",
       "      <th>37397</th>\n",
       "      <td>3</td>\n",
       "      <td>3</td>\n",
       "      <td>0.0</td>\n",
       "      <td>0.0</td>\n",
       "      <td>3.0</td>\n",
       "      <td>2.85</td>\n",
       "      <td>1.0</td>\n",
       "      <td>5376000</td>\n",
       "    </tr>\n",
       "    <tr>\n",
       "      <th>37398</th>\n",
       "      <td>10</td>\n",
       "      <td>20</td>\n",
       "      <td>1.0</td>\n",
       "      <td>1.0</td>\n",
       "      <td>3.0</td>\n",
       "      <td>3.00</td>\n",
       "      <td>2.0</td>\n",
       "      <td>7000000</td>\n",
       "    </tr>\n",
       "    <tr>\n",
       "      <th>37399</th>\n",
       "      <td>1</td>\n",
       "      <td>3</td>\n",
       "      <td>0.0</td>\n",
       "      <td>0.0</td>\n",
       "      <td>2.0</td>\n",
       "      <td>2.85</td>\n",
       "      <td>1.0</td>\n",
       "      <td>4144470</td>\n",
       "    </tr>\n",
       "  </tbody>\n",
       "</table>\n",
       "<p>37400 rows × 8 columns</p>\n",
       "</div>"
      ],
      "text/plain": [
       "       Этаж  Этажей в доме  Лифт пассажирский (кол-во)  \\\n",
       "0         2              3                         0.0   \n",
       "1         2             17                         1.0   \n",
       "2        11             17                         1.0   \n",
       "3         5             20                         2.0   \n",
       "4         2              5                         0.0   \n",
       "...     ...            ...                         ...   \n",
       "37395     3              3                         0.0   \n",
       "37396     3              3                         0.0   \n",
       "37397     3              3                         0.0   \n",
       "37398    10             20                         1.0   \n",
       "37399     1              3                         0.0   \n",
       "\n",
       "       Лифт грузовой (кол-во)  Количество комнат  Высота потолков  \\\n",
       "0                         0.0                1.0             2.85   \n",
       "1                         1.0                2.0             2.85   \n",
       "2                         1.0                3.0             2.85   \n",
       "3                         2.0                2.0             2.85   \n",
       "4                         1.0                2.0             2.85   \n",
       "...                       ...                ...              ...   \n",
       "37395                     0.0                2.0             2.85   \n",
       "37396                     0.0                3.0             2.85   \n",
       "37397                     0.0                3.0             2.85   \n",
       "37398                     1.0                3.0             3.00   \n",
       "37399                     0.0                2.0             2.85   \n",
       "\n",
       "       Кол-во раздельных санузлов  Стоимость  \n",
       "0                             1.0    2850000  \n",
       "1                             1.0    7073030  \n",
       "2                             1.0    7799940  \n",
       "3                             2.0   11700000  \n",
       "4                             0.0    6055000  \n",
       "...                           ...        ...  \n",
       "37395                         1.0    4312500  \n",
       "37396                         1.0    5102860  \n",
       "37397                         1.0    5376000  \n",
       "37398                         2.0    7000000  \n",
       "37399                         1.0    4144470  \n",
       "\n",
       "[37400 rows x 8 columns]"
      ]
     },
     "execution_count": 48,
     "metadata": {},
     "output_type": "execute_result"
    }
   ],
   "source": [
    "cian_data_numerics = cian_data.select_dtypes(include=numerics).fillna(\n",
    "    value={\n",
    "        'Лифт пассажирский (кол-во)': 0,\n",
    "        'Лифт грузовой (кол-во)': 0,\n",
    "        'Количество комнат': 1,\n",
    "        'Высота потолков': cian_data_height_medium,\n",
    "        'Кол-во раздельных санузлов': 0})\n",
    "\n",
    "cian_data_numerics"
   ]
  },
  {
   "cell_type": "code",
   "execution_count": 49,
   "metadata": {},
   "outputs": [
    {
     "data": {
      "text/plain": [
       "Этаж                          1550\n",
       "Этажей в доме                 1550\n",
       "Лифт пассажирский (кол-во)    1550\n",
       "Лифт грузовой (кол-во)        1550\n",
       "Количество комнат             1550\n",
       "Высота потолков               1550\n",
       "Кол-во раздельных санузлов    1550\n",
       "Стоимость                     1550\n",
       "dtype: int64"
      ]
     },
     "execution_count": 49,
     "metadata": {},
     "output_type": "execute_result"
    }
   ],
   "source": [
    "cian_data_numerics[(cian_data_numerics['Этажей в доме'] > 5) &\n",
    "    (cian_data_numerics['Лифт пассажирский (кол-во)'] == 0)].count()\n",
    "# more than 5 floors and no elevator seems unusual"
   ]
  },
  {
   "cell_type": "code",
   "execution_count": 50,
   "metadata": {},
   "outputs": [],
   "source": [
    "# Replace 0 to 1 elevator in >5 floors house \n",
    "filter_elevators = (cian_data_numerics['Этажей в доме'].gt(5) & \n",
    "                    cian_data_numerics['Лифт пассажирский (кол-во)'].eq(0))\n",
    "cian_data_numerics.loc[filter_elevators, 'Лифт пассажирский (кол-во)'] = 1"
   ]
  },
  {
   "cell_type": "code",
   "execution_count": 51,
   "metadata": {},
   "outputs": [
    {
     "data": {
      "text/plain": [
       "1.0     29514\n",
       "2.0      5954\n",
       "3.0       505\n",
       "6.0       170\n",
       "4.0       108\n",
       "8.0        49\n",
       "9.0        11\n",
       "5.0         8\n",
       "12.0        5\n",
       "15.0        1\n",
       "10.0        1\n",
       "Name: Лифт пассажирский (кол-во), dtype: int64"
      ]
     },
     "execution_count": 51,
     "metadata": {},
     "output_type": "execute_result"
    }
   ],
   "source": [
    "# Check\n",
    "(cian_data_numerics[cian_data_numerics['Этажей в доме'] > 5]\n",
    "     ['Лифт пассажирский (кол-во)'].value_counts())"
   ]
  },
  {
   "cell_type": "markdown",
   "metadata": {},
   "source": [
    "#### Look at categorical features"
   ]
  },
  {
   "cell_type": "code",
   "execution_count": 52,
   "metadata": {},
   "outputs": [
    {
     "data": {
      "text/plain": [
       "Парковка               True\n",
       "Тип дома               True\n",
       "Название дома (ЖК)     True\n",
       "Вид из окон            True\n",
       "Расстояние до метро    True\n",
       "ФИО продавца           True\n",
       "dtype: bool"
      ]
     },
     "execution_count": 52,
     "metadata": {},
     "output_type": "execute_result"
    }
   ],
   "source": [
    "full_filled = ['Объект продажи', 'Мусоропровод', 'Телефон', 'Адрес', \n",
    "              'Признак актуальности', 'Дата обновления', 'Регион Циан']\n",
    "already_prepared = area_features + ['Тип продажи'] + full_filled\n",
    "\n",
    "(cian_data.select_dtypes(exclude=numerics)\n",
    "     .drop(already_prepared, axis=1)\n",
    "     .isnull().any())"
   ]
  },
  {
   "cell_type": "code",
   "execution_count": 53,
   "metadata": {},
   "outputs": [
    {
     "data": {
      "text/html": [
       "<div>\n",
       "<style scoped>\n",
       "    .dataframe tbody tr th:only-of-type {\n",
       "        vertical-align: middle;\n",
       "    }\n",
       "\n",
       "    .dataframe tbody tr th {\n",
       "        vertical-align: top;\n",
       "    }\n",
       "\n",
       "    .dataframe thead th {\n",
       "        text-align: right;\n",
       "    }\n",
       "</style>\n",
       "<table border=\"1\" class=\"dataframe\">\n",
       "  <thead>\n",
       "    <tr style=\"text-align: right;\">\n",
       "      <th></th>\n",
       "      <th>Парковка</th>\n",
       "      <th>Тип дома</th>\n",
       "      <th>Название дома (ЖК)</th>\n",
       "      <th>Вид из окон</th>\n",
       "      <th>Расстояние до метро</th>\n",
       "      <th>ФИО продавца</th>\n",
       "    </tr>\n",
       "  </thead>\n",
       "  <tbody>\n",
       "    <tr>\n",
       "      <th>count</th>\n",
       "      <td>33142</td>\n",
       "      <td>37141</td>\n",
       "      <td>37197</td>\n",
       "      <td>17680</td>\n",
       "      <td>35409</td>\n",
       "      <td>33001</td>\n",
       "    </tr>\n",
       "    <tr>\n",
       "      <th>unique</th>\n",
       "      <td>3</td>\n",
       "      <td>5</td>\n",
       "      <td>776</td>\n",
       "      <td>3</td>\n",
       "      <td>138</td>\n",
       "      <td>1145</td>\n",
       "    </tr>\n",
       "    <tr>\n",
       "      <th>top</th>\n",
       "      <td>подземная</td>\n",
       "      <td>Монолитный</td>\n",
       "      <td>ЖК «Хорошевский»</td>\n",
       "      <td>Во двор</td>\n",
       "      <td>2 мин. на транспорте</td>\n",
       "      <td>ПИК</td>\n",
       "    </tr>\n",
       "    <tr>\n",
       "      <th>freq</th>\n",
       "      <td>15653</td>\n",
       "      <td>32452</td>\n",
       "      <td>1251</td>\n",
       "      <td>8423</td>\n",
       "      <td>5632</td>\n",
       "      <td>6198</td>\n",
       "    </tr>\n",
       "  </tbody>\n",
       "</table>\n",
       "</div>"
      ],
      "text/plain": [
       "         Парковка    Тип дома Название дома (ЖК) Вид из окон  \\\n",
       "count       33142       37141              37197       17680   \n",
       "unique          3           5                776           3   \n",
       "top     подземная  Монолитный   ЖК «Хорошевский»     Во двор   \n",
       "freq        15653       32452               1251        8423   \n",
       "\n",
       "         Расстояние до метро ФИО продавца  \n",
       "count                  35409        33001  \n",
       "unique                   138         1145  \n",
       "top     2 мин. на транспорте          ПИК  \n",
       "freq                    5632         6198  "
      ]
     },
     "execution_count": 53,
     "metadata": {},
     "output_type": "execute_result"
    }
   ],
   "source": [
    "cian_data_categorical = (cian_data.select_dtypes(exclude=numerics)\n",
    "                             .drop(already_prepared, axis=1))\n",
    "cian_data_categorical.describe()"
   ]
  },
  {
   "cell_type": "code",
   "execution_count": 58,
   "metadata": {},
   "outputs": [
    {
     "data": {
      "text/plain": [
       "Парковка                          подземная\n",
       "Тип дома                         Монолитный\n",
       "Название дома (ЖК)         ЖК «Хорошевский»\n",
       "Вид из окон                         Во двор\n",
       "Расстояние до метро    2 мин. на транспорте\n",
       "ФИО продавца                            ПИК\n",
       "Name: 0, dtype: object"
      ]
     },
     "execution_count": 58,
     "metadata": {},
     "output_type": "execute_result"
    }
   ],
   "source": [
    "# Look at the most frequent values\n",
    "cian_data_categorical.mode().iloc[0]"
   ]
  },
  {
   "cell_type": "code",
   "execution_count": 61,
   "metadata": {},
   "outputs": [
    {
     "data": {
      "text/html": [
       "<div>\n",
       "<style scoped>\n",
       "    .dataframe tbody tr th:only-of-type {\n",
       "        vertical-align: middle;\n",
       "    }\n",
       "\n",
       "    .dataframe tbody tr th {\n",
       "        vertical-align: top;\n",
       "    }\n",
       "\n",
       "    .dataframe thead th {\n",
       "        text-align: right;\n",
       "    }\n",
       "</style>\n",
       "<table border=\"1\" class=\"dataframe\">\n",
       "  <thead>\n",
       "    <tr style=\"text-align: right;\">\n",
       "      <th></th>\n",
       "      <th>Парковка</th>\n",
       "      <th>Тип дома</th>\n",
       "      <th>Название дома (ЖК)</th>\n",
       "      <th>Вид из окон</th>\n",
       "      <th>Расстояние до метро</th>\n",
       "      <th>ФИО продавца</th>\n",
       "    </tr>\n",
       "  </thead>\n",
       "  <tbody>\n",
       "    <tr>\n",
       "      <th>0</th>\n",
       "      <td>Нет</td>\n",
       "      <td>Кирпичный</td>\n",
       "      <td>ЖК «Маяковского»</td>\n",
       "      <td>Во двор</td>\n",
       "      <td>NaN</td>\n",
       "      <td>Другое</td>\n",
       "    </tr>\n",
       "    <tr>\n",
       "      <th>1</th>\n",
       "      <td>подземная</td>\n",
       "      <td>Монолитный</td>\n",
       "      <td>ЖК «Белая звезда»</td>\n",
       "      <td>Во двор</td>\n",
       "      <td>12 мин. на транспорте</td>\n",
       "      <td>ИНКОМ-Новостройки</td>\n",
       "    </tr>\n",
       "    <tr>\n",
       "      <th>2</th>\n",
       "      <td>подземная</td>\n",
       "      <td>Монолитный</td>\n",
       "      <td>ЖК «Белая звезда»</td>\n",
       "      <td>Во двор</td>\n",
       "      <td>12 мин. на транспорте</td>\n",
       "      <td>ИНКОМ-Новостройки</td>\n",
       "    </tr>\n",
       "    <tr>\n",
       "      <th>3</th>\n",
       "      <td>Нет</td>\n",
       "      <td>Монолитный</td>\n",
       "      <td>ЖК «Хорошевский»</td>\n",
       "      <td>На улицу и двор</td>\n",
       "      <td>3 мин. на транспорте</td>\n",
       "      <td>Другое</td>\n",
       "    </tr>\n",
       "    <tr>\n",
       "      <th>4</th>\n",
       "      <td>подземная</td>\n",
       "      <td>Монолитный</td>\n",
       "      <td>ЖК «Рублевское предместье»</td>\n",
       "      <td>На улицу и двор</td>\n",
       "      <td>NaN</td>\n",
       "      <td>Другое</td>\n",
       "    </tr>\n",
       "    <tr>\n",
       "      <th>...</th>\n",
       "      <td>...</td>\n",
       "      <td>...</td>\n",
       "      <td>...</td>\n",
       "      <td>...</td>\n",
       "      <td>...</td>\n",
       "      <td>...</td>\n",
       "    </tr>\n",
       "    <tr>\n",
       "      <th>37395</th>\n",
       "      <td>Нет</td>\n",
       "      <td>Кирпичный</td>\n",
       "      <td>ЖК «Павловский квартал»</td>\n",
       "      <td>На улицу и двор</td>\n",
       "      <td>NaN</td>\n",
       "      <td>Русфинриэлти</td>\n",
       "    </tr>\n",
       "    <tr>\n",
       "      <th>37396</th>\n",
       "      <td>Нет</td>\n",
       "      <td>Кирпичный</td>\n",
       "      <td>ЖК «Павловский квартал»</td>\n",
       "      <td>На улицу и двор</td>\n",
       "      <td>23 мин. на транспорте</td>\n",
       "      <td>Русфинриэлти</td>\n",
       "    </tr>\n",
       "    <tr>\n",
       "      <th>37397</th>\n",
       "      <td>Нет</td>\n",
       "      <td>Кирпичный</td>\n",
       "      <td>ЖК «Павловский квартал»</td>\n",
       "      <td>На улицу и двор</td>\n",
       "      <td>NaN</td>\n",
       "      <td>Русфинриэлти</td>\n",
       "    </tr>\n",
       "    <tr>\n",
       "      <th>37398</th>\n",
       "      <td>Нет</td>\n",
       "      <td>Монолитный</td>\n",
       "      <td>ЖК «Эдельвейс-Комфорт»</td>\n",
       "      <td>На улицу и двор</td>\n",
       "      <td>NaN</td>\n",
       "      <td>Другое</td>\n",
       "    </tr>\n",
       "    <tr>\n",
       "      <th>37399</th>\n",
       "      <td>Нет</td>\n",
       "      <td>Кирпичный</td>\n",
       "      <td>ЖК «Павловский квартал»</td>\n",
       "      <td>На улицу и двор</td>\n",
       "      <td>23 мин. на транспорте</td>\n",
       "      <td>Другое</td>\n",
       "    </tr>\n",
       "  </tbody>\n",
       "</table>\n",
       "<p>37400 rows × 6 columns</p>\n",
       "</div>"
      ],
      "text/plain": [
       "        Парковка    Тип дома          Название дома (ЖК)      Вид из окон  \\\n",
       "0            Нет   Кирпичный            ЖК «Маяковского»          Во двор   \n",
       "1      подземная  Монолитный           ЖК «Белая звезда»          Во двор   \n",
       "2      подземная  Монолитный           ЖК «Белая звезда»          Во двор   \n",
       "3            Нет  Монолитный            ЖК «Хорошевский»  На улицу и двор   \n",
       "4      подземная  Монолитный  ЖК «Рублевское предместье»  На улицу и двор   \n",
       "...          ...         ...                         ...              ...   \n",
       "37395        Нет   Кирпичный     ЖК «Павловский квартал»  На улицу и двор   \n",
       "37396        Нет   Кирпичный     ЖК «Павловский квартал»  На улицу и двор   \n",
       "37397        Нет   Кирпичный     ЖК «Павловский квартал»  На улицу и двор   \n",
       "37398        Нет  Монолитный      ЖК «Эдельвейс-Комфорт»  На улицу и двор   \n",
       "37399        Нет   Кирпичный     ЖК «Павловский квартал»  На улицу и двор   \n",
       "\n",
       "         Расстояние до метро       ФИО продавца  \n",
       "0                        NaN             Другое  \n",
       "1      12 мин. на транспорте  ИНКОМ-Новостройки  \n",
       "2      12 мин. на транспорте  ИНКОМ-Новостройки  \n",
       "3       3 мин. на транспорте             Другое  \n",
       "4                        NaN             Другое  \n",
       "...                      ...                ...  \n",
       "37395                    NaN       Русфинриэлти  \n",
       "37396  23 мин. на транспорте       Русфинриэлти  \n",
       "37397                    NaN       Русфинриэлти  \n",
       "37398                    NaN             Другое  \n",
       "37399  23 мин. на транспорте             Другое  \n",
       "\n",
       "[37400 rows x 6 columns]"
      ]
     },
     "execution_count": 61,
     "metadata": {},
     "output_type": "execute_result"
    }
   ],
   "source": [
    "cian_data_categorical = cian_data_categorical.fillna(value={\n",
    "    'Парковка': 'Нет',\n",
    "    'Тип дома': 'Монолитный',\n",
    "    'Название дома (ЖК)': 'Другое',\n",
    "    'Вид из окон': 'Во двор',\n",
    "    'ФИО продавца': 'Другое'\n",
    "})\n",
    "cian_data_categorical"
   ]
  },
  {
   "cell_type": "code",
   "execution_count": 75,
   "metadata": {},
   "outputs": [
    {
     "data": {
      "text/plain": [
       " на транспорте    22852\n",
       " пешком           12557\n",
       "NaN                1991\n",
       "Name: 1, dtype: int64"
      ]
     },
     "execution_count": 75,
     "metadata": {},
     "output_type": "execute_result"
    }
   ],
   "source": [
    "cian_data_sub_distance = cian_data['Расстояние до метро'].str.split('.', expand=True)\n",
    "cian_data_sub_distance_time = cian_data_sub_distance[0].str.rstrip(' мин').astype(float)\n",
    "cian_data_sub_distance_time\n",
    "cian_data_sub_distance_type = cian_data_sub_distance[1]\n",
    "cian_data_sub_distance_type.value_counts(dropna=False)"
   ]
  },
  {
   "cell_type": "code",
   "execution_count": 80,
   "metadata": {},
   "outputs": [],
   "source": [
    "# cian_data.groupby(['Расстояние до метро'])[].count()"
   ]
  },
  {
   "cell_type": "code",
   "execution_count": null,
   "metadata": {},
   "outputs": [],
   "source": []
  }
 ],
 "metadata": {
  "kernelspec": {
   "display_name": "Python 3",
   "language": "python",
   "name": "python3"
  }
 },
 "nbformat": 4,
 "nbformat_minor": 4
}
